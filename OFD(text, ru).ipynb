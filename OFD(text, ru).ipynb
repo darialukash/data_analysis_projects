{
 "cells": [
  {
   "cell_type": "markdown",
   "metadata": {},
   "source": [
    "# Задание для кандидатов на позицию DS"
   ]
  },
  {
   "cell_type": "markdown",
   "metadata": {},
   "source": [
    "### Исходные данные\n",
    "\n",
    "К заданию прилагается два файла:\n",
    "\n",
    "- training_dataset.txt – содержит выборку названий товаров и услуг, которая была размечена вручную и включает следующие классы:\n",
    "\n",
    " -   НЕ Сигареты ROTHMANS\n",
    " -   Сигареты ROTHMANS (неизвестно или нет в списке)\n",
    " -   Сигареты ROTHMANS DEMI\n",
    " -   Сигареты ROTHMANS DEMI CLICK (кнопка / капсула / зеленый / лайм / ментол)\n",
    " -   Сигареты ROTHMANS DEMI CLICK (кнопка / капсула) Aero Blue (фиолетовый / сиреневый / ягоды)\n",
    " -   Сигареты ROTHMANS DEMI CLICK (кнопка / капсула) Plus Blue (amber, мандарин, оранж, апельсин)\n",
    " -   Сигареты ROTHMANS DEMI SILVER (серый)\n",
    " -   Сигареты ROYALS BY ROTHMANS\n",
    "\n",
    "\n",
    "- test_dataset.txt – тестовая выборка случайных названий товаров и услуг, которую необходимо разметить автоматически по указанным выше классам."
   ]
  },
  {
   "cell_type": "code",
   "execution_count": 1,
   "metadata": {},
   "outputs": [],
   "source": [
    "# Библиотеки\n",
    "\n",
    "import pandas as pd\n",
    "import numpy as np\n",
    "import os\n",
    "import re\n",
    "import matplotlib.pyplot as plt\n",
    "import seaborn as sns\n",
    "from sklearn.model_selection import GridSearchCV, cross_val_score, StratifiedKFold\n",
    "from sklearn.feature_extraction.text import CountVectorizer, TfidfTransformer\n",
    "from sklearn.naive_bayes import MultinomialNB\n",
    "from sklearn.metrics import roc_auc_score, classification_report\n",
    "from sklearn.preprocessing import LabelEncoder\n",
    "import joblib\n",
    "\n",
    "%matplotlib inline"
   ]
  },
  {
   "cell_type": "code",
   "execution_count": 2,
   "metadata": {},
   "outputs": [
    {
     "data": {
      "text/plain": [
       "['dataPrep',\n",
       " 'models',\n",
       " '.ipynb_checkpoints',\n",
       " 'test_dataset.txt',\n",
       " 'training_dataset.txt',\n",
       " 'predicted.txt']"
      ]
     },
     "execution_count": 2,
     "metadata": {},
     "output_type": "execute_result"
    }
   ],
   "source": [
    "os.listdir('./ofd-data/')"
   ]
  },
  {
   "cell_type": "code",
   "execution_count": 3,
   "metadata": {},
   "outputs": [
    {
     "data": {
      "text/html": [
       "<div>\n",
       "<style scoped>\n",
       "    .dataframe tbody tr th:only-of-type {\n",
       "        vertical-align: middle;\n",
       "    }\n",
       "\n",
       "    .dataframe tbody tr th {\n",
       "        vertical-align: top;\n",
       "    }\n",
       "\n",
       "    .dataframe thead th {\n",
       "        text-align: right;\n",
       "    }\n",
       "</style>\n",
       "<table border=\"1\" class=\"dataframe\">\n",
       "  <thead>\n",
       "    <tr style=\"text-align: right;\">\n",
       "      <th></th>\n",
       "      <th>name</th>\n",
       "      <th>result</th>\n",
       "    </tr>\n",
       "  </thead>\n",
       "  <tbody>\n",
       "    <tr>\n",
       "      <th>0</th>\n",
       "      <td>1.вода аква минерале газ 0.</td>\n",
       "      <td>НЕ Сигареты ROTHMANS</td>\n",
       "    </tr>\n",
       "    <tr>\n",
       "      <th>1</th>\n",
       "      <td>сигареты\"keht\"</td>\n",
       "      <td>НЕ Сигареты ROTHMANS</td>\n",
       "    </tr>\n",
       "    <tr>\n",
       "      <th>2</th>\n",
       "      <td>сигареты стиль rose ssl jade (жадэ розовый)</td>\n",
       "      <td>НЕ Сигареты ROTHMANS</td>\n",
       "    </tr>\n",
       "    <tr>\n",
       "      <th>3</th>\n",
       "      <td>мин вода нарзан 0.5л пэт</td>\n",
       "      <td>НЕ Сигареты ROTHMANS</td>\n",
       "    </tr>\n",
       "    <tr>\n",
       "      <th>4</th>\n",
       "      <td>пирожок печен с мясом</td>\n",
       "      <td>НЕ Сигареты ROTHMANS</td>\n",
       "    </tr>\n",
       "  </tbody>\n",
       "</table>\n",
       "</div>"
      ],
      "text/plain": [
       "                                          name                result\n",
       "0                  1.вода аква минерале газ 0.  НЕ Сигареты ROTHMANS\n",
       "1                               сигареты\"keht\"  НЕ Сигареты ROTHMANS\n",
       "2  сигареты стиль rose ssl jade (жадэ розовый)  НЕ Сигареты ROTHMANS\n",
       "3                     мин вода нарзан 0.5л пэт  НЕ Сигареты ROTHMANS\n",
       "4                        пирожок печен с мясом  НЕ Сигареты ROTHMANS"
      ]
     },
     "execution_count": 3,
     "metadata": {},
     "output_type": "execute_result"
    }
   ],
   "source": [
    "train_data = pd.read_csv('./ofd-data/training_dataset.txt', sep='\\t')\n",
    "train_data.head()"
   ]
  },
  {
   "cell_type": "code",
   "execution_count": 4,
   "metadata": {},
   "outputs": [
    {
     "name": "stdout",
     "output_type": "stream",
     "text": [
      "<class 'pandas.core.frame.DataFrame'>\n",
      "RangeIndex: 9998 entries, 0 to 9997\n",
      "Data columns (total 2 columns):\n",
      "name      9998 non-null object\n",
      "result    9998 non-null object\n",
      "dtypes: object(2)\n",
      "memory usage: 156.3+ KB\n"
     ]
    }
   ],
   "source": [
    "train_data.info()"
   ]
  },
  {
   "cell_type": "code",
   "execution_count": 5,
   "metadata": {
    "scrolled": true
   },
   "outputs": [
    {
     "name": "stderr",
     "output_type": "stream",
     "text": [
      "/home/daria/anaconda3/lib/python3.7/site-packages/seaborn/axisgrid.py:848: UserWarning: Tight layout not applied. The left and right margins cannot be made large enough to accommodate all axes decorations. \n",
      "  self.fig.tight_layout()\n"
     ]
    },
    {
     "data": {
      "image/png": "[encoded data removed]",
      "text/plain": [
       "<Figure size 360x360 with 1 Axes>"
      ]
     },
     "metadata": {
      "needs_background": "light"
     },
     "output_type": "display_data"
    }
   ],
   "source": [
    "# Посмотрим на количество примеров по категориям:\n",
    "\n",
    "sns.catplot(y='result', kind='count', data=train_data)\n",
    "plt.show()"
   ]
  },
  {
   "cell_type": "code",
   "execution_count": 6,
   "metadata": {},
   "outputs": [
    {
     "data": {
      "text/plain": [
       "НЕ Сигареты ROTHMANS                                                                            9200\n",
       "Сигареты ROTHMANS DEMI CLICK (кнопка / капсула / зеленый / лайм / ментол)                        222\n",
       "Сигареты ROTHMANS DEMI CLICK (кнопка / капсула) Plus Blue (amber, мандарин, оранж, апельсин)     185\n",
       "Сигареты ROTHMANS DEMI                                                                           172\n",
       "Сигареты ROTHMANS DEMI SILVER (серый)                                                             76\n",
       "Сигареты ROYALS BY ROTHMANS                                                                       75\n",
       "Сигареты ROTHMANS DEMI CLICK (кнопка / капсула) Aero Blue (фиолетовый / сиреневый / ягоды)        59\n",
       "Сигареты ROTHMANS (неизвестно или нет в списке)                                                    9\n",
       "Name: result, dtype: int64"
      ]
     },
     "execution_count": 6,
     "metadata": {},
     "output_type": "execute_result"
    }
   ],
   "source": [
    "train_data['result'].value_counts()"
   ]
  },
  {
   "cell_type": "code",
   "execution_count": 7,
   "metadata": {},
   "outputs": [
    {
     "data": {
      "text/html": [
       "<div>\n",
       "<style scoped>\n",
       "    .dataframe tbody tr th:only-of-type {\n",
       "        vertical-align: middle;\n",
       "    }\n",
       "\n",
       "    .dataframe tbody tr th {\n",
       "        vertical-align: top;\n",
       "    }\n",
       "\n",
       "    .dataframe thead th {\n",
       "        text-align: right;\n",
       "    }\n",
       "</style>\n",
       "<table border=\"1\" class=\"dataframe\">\n",
       "  <thead>\n",
       "    <tr style=\"text-align: right;\">\n",
       "      <th></th>\n",
       "      <th>name</th>\n",
       "      <th>result</th>\n",
       "    </tr>\n",
       "  </thead>\n",
       "  <tbody>\n",
       "    <tr>\n",
       "      <th>1979</th>\n",
       "      <td>ротманс деми блю бат</td>\n",
       "      <td>Сигареты ROTHMANS (неизвестно или нет в списке)</td>\n",
       "    </tr>\n",
       "    <tr>\n",
       "      <th>2720</th>\n",
       "      <td>сигареты ротманс роял деми блу</td>\n",
       "      <td>Сигареты ROTHMANS (неизвестно или нет в списке)</td>\n",
       "    </tr>\n",
       "    <tr>\n",
       "      <th>3398</th>\n",
       "      <td>rothmans demi слим blue 100</td>\n",
       "      <td>Сигареты ROTHMANS (неизвестно или нет в списке)</td>\n",
       "    </tr>\n",
       "    <tr>\n",
       "      <th>6392</th>\n",
       "      <td>сиг\"rothmans demi click\" блю</td>\n",
       "      <td>Сигареты ROTHMANS (неизвестно или нет в списке)</td>\n",
       "    </tr>\n",
       "    <tr>\n",
       "      <th>7671</th>\n",
       "      <td>ротманс роялс деми блю 90 руб</td>\n",
       "      <td>Сигареты ROTHMANS (неизвестно или нет в списке)</td>\n",
       "    </tr>\n",
       "    <tr>\n",
       "      <th>7786</th>\n",
       "      <td>сигареты ротманс деми блю 100</td>\n",
       "      <td>Сигареты ROTHMANS (неизвестно или нет в списке)</td>\n",
       "    </tr>\n",
       "    <tr>\n",
       "      <th>7799</th>\n",
       "      <td>сигареты ротманс деми блю</td>\n",
       "      <td>Сигареты ROTHMANS (неизвестно или нет в списке)</td>\n",
       "    </tr>\n",
       "    <tr>\n",
       "      <th>8858</th>\n",
       "      <td>ротманс деми блю сигареты 1/10  мрц100</td>\n",
       "      <td>Сигареты ROTHMANS (неизвестно или нет в списке)</td>\n",
       "    </tr>\n",
       "    <tr>\n",
       "      <th>9531</th>\n",
       "      <td>ротманс ss blue тонкие деми</td>\n",
       "      <td>Сигареты ROTHMANS (неизвестно или нет в списке)</td>\n",
       "    </tr>\n",
       "  </tbody>\n",
       "</table>\n",
       "</div>"
      ],
      "text/plain": [
       "                                        name  \\\n",
       "1979                    ротманс деми блю бат   \n",
       "2720          сигареты ротманс роял деми блу   \n",
       "3398             rothmans demi слим blue 100   \n",
       "6392            сиг\"rothmans demi click\" блю   \n",
       "7671           ротманс роялс деми блю 90 руб   \n",
       "7786           сигареты ротманс деми блю 100   \n",
       "7799               сигареты ротманс деми блю   \n",
       "8858  ротманс деми блю сигареты 1/10  мрц100   \n",
       "9531             ротманс ss blue тонкие деми   \n",
       "\n",
       "                                               result  \n",
       "1979  Сигареты ROTHMANS (неизвестно или нет в списке)  \n",
       "2720  Сигареты ROTHMANS (неизвестно или нет в списке)  \n",
       "3398  Сигареты ROTHMANS (неизвестно или нет в списке)  \n",
       "6392  Сигареты ROTHMANS (неизвестно или нет в списке)  \n",
       "7671  Сигареты ROTHMANS (неизвестно или нет в списке)  \n",
       "7786  Сигареты ROTHMANS (неизвестно или нет в списке)  \n",
       "7799  Сигареты ROTHMANS (неизвестно или нет в списке)  \n",
       "8858  Сигареты ROTHMANS (неизвестно или нет в списке)  \n",
       "9531  Сигареты ROTHMANS (неизвестно или нет в списке)  "
      ]
     },
     "execution_count": 7,
     "metadata": {},
     "output_type": "execute_result"
    }
   ],
   "source": [
    "# Хорошо бы этот класс совсем убрать или доразметить\n",
    "\n",
    "train_data[train_data['result'] == 'Сигареты ROTHMANS (неизвестно или нет в списке)']"
   ]
  },
  {
   "cell_type": "code",
   "execution_count": 8,
   "metadata": {},
   "outputs": [
    {
     "data": {
      "image/png": "[encoded data removed]",
      "text/plain": [
       "<Figure size 360x360 with 1 Axes>"
      ]
     },
     "metadata": {
      "needs_background": "light"
     },
     "output_type": "display_data"
    }
   ],
   "source": [
    "# Разделим выборку на сигареты и не сигареты:\n",
    "\n",
    "train_data['binary_class'] = train_data['result'].apply(lambda x: 0 if x == 'НЕ Сигареты ROTHMANS' else 1)\n",
    "sns.catplot(y='binary_class', kind='count', data=train_data)\n",
    "plt.show()"
   ]
  },
  {
   "cell_type": "code",
   "execution_count": 9,
   "metadata": {},
   "outputs": [
    {
     "data": {
      "image/png": "[encoded data removed]",
      "text/plain": [
       "<Figure size 360x360 with 1 Axes>"
      ]
     },
     "metadata": {
      "needs_background": "light"
     },
     "output_type": "display_data"
    }
   ],
   "source": [
    "# Сигареты отдельно:\n",
    "\n",
    "sns.catplot(y='result', kind='count', data=train_data[train_data['binary_class'] == 1])\n",
    "plt.show()"
   ]
  },
  {
   "cell_type": "code",
   "execution_count": 10,
   "metadata": {},
   "outputs": [
    {
     "data": {
      "image/png": "[encoded data removed]",
      "text/plain": [
       "<Figure size 360x360 with 1 Axes>"
      ]
     },
     "metadata": {
      "needs_background": "light"
     },
     "output_type": "display_data"
    }
   ],
   "source": [
    "def rotcats(cat):\n",
    "    if cat in ['Сигареты ROTHMANS DEMI CLICK (кнопка / капсула / зеленый / лайм / ментол)',\n",
    "       'Сигареты ROTHMANS DEMI CLICK (кнопка / капсула) Aero Blue (фиолетовый / сиреневый / ягоды)',\n",
    "       'Сигареты ROTHMANS DEMI CLICK (кнопка / капсула) Plus Blue (amber, мандарин, оранж, апельсин)',\n",
    "              ]:\n",
    "        return 'DEMI CLICK'\n",
    "    else:\n",
    "        return cat\n",
    "\n",
    "train_data['ROTHMANS'] = train_data['result'].apply(lambda x: rotcats(x))\n",
    "\n",
    "sns.catplot(y='ROTHMANS', kind='count', data=train_data[train_data['binary_class'] == 1])\n",
    "plt.show()"
   ]
  },
  {
   "cell_type": "code",
   "execution_count": 11,
   "metadata": {},
   "outputs": [
    {
     "data": {
      "image/png": "[encoded data removed]",
      "text/plain": [
       "<Figure size 360x360 with 1 Axes>"
      ]
     },
     "metadata": {
      "needs_background": "light"
     },
     "output_type": "display_data"
    }
   ],
   "source": [
    "sns.catplot(y='result', kind='count', data=train_data[(train_data['binary_class'] == 1) & \n",
    "                                                  (train_data['ROTHMANS'] == 'DEMI CLICK')])\n",
    "plt.show()"
   ]
  },
  {
   "cell_type": "code",
   "execution_count": 12,
   "metadata": {},
   "outputs": [],
   "source": [
    "# Предобработка текста, выделение слов, удаление знаков пунктуации\n",
    "\n",
    "special_char_list = [':', ';', '?', '}', ')', '{', '(', '.', '/', '\\/', ',', '\"',\n",
    "                    '-', '*']\n",
    "train_data['name'] = train_data['name'].apply(lambda x: x.lower())\n",
    "for special_char in special_char_list:\n",
    "    train_data['name'] = train_data['name'].apply(lambda x: x.replace(special_char, ''))\n",
    "\n",
    "train_data['name'] = train_data['name'].apply(lambda x: ' '.join(re.findall('.....', x)))"
   ]
  },
  {
   "cell_type": "code",
   "execution_count": 13,
   "metadata": {},
   "outputs": [
    {
     "data": {
      "text/plain": [
       "((9998, 22960), (9998, 22960))"
      ]
     },
     "execution_count": 13,
     "metadata": {},
     "output_type": "execute_result"
    }
   ],
   "source": [
    "count_vect = CountVectorizer()\n",
    "tfidf_transformer = TfidfTransformer()\n",
    "\n",
    "X_train_counts = count_vect.fit_transform(train_data.name)\n",
    "X_train_tfidf = tfidf_transformer.fit_transform(X_train_counts)\n",
    "\n",
    "joblib.dump(count_vect, './ofd-data/dataPrep/count_vect.sav')\n",
    "joblib.dump(tfidf_transformer, './ofd-data/dataPrep/tfidf_transformer.sav')\n",
    "\n",
    "X_train_counts.shape, X_train_tfidf.shape"
   ]
  },
  {
   "cell_type": "code",
   "execution_count": 14,
   "metadata": {},
   "outputs": [],
   "source": [
    "# Будем последовательно отделять классы:\n",
    "\n",
    "# Сигареты - Не сигареты (1 классификатор)\n",
    "# Сигареты по категориям: нет в списке, роял, деми, деми клик, деми силвер (2 классификатор)\n",
    "# Сигареты деми клик по внутренним категориям (3 классификатор)"
   ]
  },
  {
   "cell_type": "code",
   "execution_count": 15,
   "metadata": {},
   "outputs": [
    {
     "name": "stdout",
     "output_type": "stream",
     "text": [
      "Fitting 7 folds for each of 6 candidates, totalling 42 fits\n"
     ]
    },
    {
     "name": "stderr",
     "output_type": "stream",
     "text": [
      "[Parallel(n_jobs=-1)]: Using backend LokyBackend with 4 concurrent workers.\n",
      "[Parallel(n_jobs=-1)]: Done  42 out of  42 | elapsed:    4.1s finished\n"
     ]
    },
    {
     "data": {
      "text/plain": [
       "GridSearchCV(cv=StratifiedKFold(n_splits=7, random_state=123, shuffle=True),\n",
       "             error_score='raise-deprecating',\n",
       "             estimator=MultinomialNB(alpha=1.0, class_prior=None,\n",
       "                                     fit_prior=True),\n",
       "             iid='warn', n_jobs=-1,\n",
       "             param_grid={'alpha': [0, 0.0001, 0.001, 0.01, 0.1, 1]},\n",
       "             pre_dispatch='2*n_jobs', refit=True, return_train_score=True,\n",
       "             scoring='roc_auc', verbose=True)"
      ]
     },
     "execution_count": 15,
     "metadata": {},
     "output_type": "execute_result"
    }
   ],
   "source": [
    "clf_1 = MultinomialNB()\n",
    "param = {'alpha': [0, 1e-4, 1e-3, 1e-2, 1e-1, 1]}\n",
    "grid_1 = GridSearchCV(clf_1, param, scoring='roc_auc', n_jobs=-1, cv=StratifiedKFold(n_splits=7, shuffle = True,\n",
    "                                                                                    random_state=123),\n",
    "                   return_train_score=True, verbose=True)\n",
    "grid_1.fit(X_train_tfidf, train_data.binary_class)"
   ]
  },
  {
   "cell_type": "code",
   "execution_count": 16,
   "metadata": {},
   "outputs": [
    {
     "name": "stdout",
     "output_type": "stream",
     "text": [
      "{'alpha': 0.1}\n",
      "ROC AUC score:  0.9999056084158677\n"
     ]
    }
   ],
   "source": [
    "best_c = grid_1.best_params_\n",
    "best_score = grid_1.best_score_\n",
    "joblib.dump(grid_1.best_estimator_, './ofd-data/models/first_model.sav')\n",
    "print(best_c)\n",
    "print('ROC AUC score: ',best_score)"
   ]
  },
  {
   "cell_type": "code",
   "execution_count": 17,
   "metadata": {},
   "outputs": [
    {
     "data": {
      "text/plain": [
       "['./ofd-data/labelEncoder1.sav']"
      ]
     },
     "execution_count": 17,
     "metadata": {},
     "output_type": "execute_result"
    }
   ],
   "source": [
    "# Следующий алгоритм учим только на категориях сигарет Ротманс:\n",
    "\n",
    "X_train_selected_1 = X_train_tfidf[train_data[train_data['binary_class'] == 1].index]\n",
    "\n",
    "le_1 = LabelEncoder()\n",
    "reslabels_1 = le_1.fit_transform(train_data[train_data['binary_class'] == 1].ROTHMANS)\n",
    "joblib.dump(le_1, './ofd-data/labelEncoder1.sav')"
   ]
  },
  {
   "cell_type": "code",
   "execution_count": 18,
   "metadata": {},
   "outputs": [
    {
     "name": "stdout",
     "output_type": "stream",
     "text": [
      "Fitting 3 folds for each of 9 candidates, totalling 27 fits\n"
     ]
    },
    {
     "name": "stderr",
     "output_type": "stream",
     "text": [
      "[Parallel(n_jobs=-1)]: Using backend LokyBackend with 4 concurrent workers.\n",
      "[Parallel(n_jobs=-1)]: Done  27 out of  27 | elapsed:    0.3s finished\n"
     ]
    },
    {
     "data": {
      "text/plain": [
       "GridSearchCV(cv=StratifiedKFold(n_splits=3, random_state=123, shuffle=True),\n",
       "             error_score='raise-deprecating',\n",
       "             estimator=MultinomialNB(alpha=1.0, class_prior=None,\n",
       "                                     fit_prior=True),\n",
       "             iid='warn', n_jobs=-1,\n",
       "             param_grid={'alpha': [0, 1e-05, 1e-06, 1e-07, 0.0001, 0.001, 0.01,\n",
       "                                   0.1, 1]},\n",
       "             pre_dispatch='2*n_jobs', refit=True, return_train_score=True,\n",
       "             scoring='f1_weighted', verbose=True)"
      ]
     },
     "execution_count": 18,
     "metadata": {},
     "output_type": "execute_result"
    }
   ],
   "source": [
    "clf_2 = MultinomialNB()\n",
    "param = {'alpha': [0,1e-5, 1e-6, 1e-7, 1e-4, 1e-3, 1e-2, 1e-1, 1]}\n",
    "grid_2 = GridSearchCV(clf_2, param, n_jobs=-1, cv=StratifiedKFold(n_splits=3, shuffle = True,\n",
    "                                                                 random_state=123),\n",
    "                      scoring='f1_weighted',\n",
    "                   return_train_score=True, verbose=True)\n",
    "grid_2.fit(X_train_selected_1, reslabels_1)"
   ]
  },
  {
   "cell_type": "code",
   "execution_count": 19,
   "metadata": {},
   "outputs": [
    {
     "name": "stdout",
     "output_type": "stream",
     "text": [
      "{'alpha': 1e-05}\n",
      "Score f1, weighted:  0.7328879087508197\n"
     ]
    }
   ],
   "source": [
    "best_c = grid_2.best_params_\n",
    "best_score = grid_2.best_score_\n",
    "joblib.dump(grid_2.best_estimator_, './ofd-data/models/second_model.sav')\n",
    "print(best_c)\n",
    "print('Score f1, weighted: ',best_score)"
   ]
  },
  {
   "cell_type": "code",
   "execution_count": 20,
   "metadata": {},
   "outputs": [],
   "source": [
    "# Отбираем категорию деми клик\n",
    "\n",
    "le_2 = LabelEncoder()\n",
    "reslabels_2 = le_2.fit_transform(train_data[(train_data['binary_class'] == 1) & \n",
    "                                  (train_data['ROTHMANS'] == 'DEMI CLICK')].result)\n",
    "joblib.dump(le_2, './ofd-data/labelEncoder2.sav')\n",
    "X_train_selected_2 = X_train_tfidf[train_data[(train_data['binary_class'] == 1) &\n",
    "                                        (train_data['ROTHMANS'] == 'DEMI CLICK')].index]"
   ]
  },
  {
   "cell_type": "code",
   "execution_count": 21,
   "metadata": {},
   "outputs": [
    {
     "name": "stdout",
     "output_type": "stream",
     "text": [
      "Fitting 7 folds for each of 6 candidates, totalling 42 fits\n"
     ]
    },
    {
     "name": "stderr",
     "output_type": "stream",
     "text": [
      "[Parallel(n_jobs=-1)]: Using backend LokyBackend with 4 concurrent workers.\n",
      "[Parallel(n_jobs=-1)]: Done  42 out of  42 | elapsed:    0.3s finished\n"
     ]
    },
    {
     "data": {
      "text/plain": [
       "GridSearchCV(cv=StratifiedKFold(n_splits=7, random_state=123, shuffle=True),\n",
       "             error_score='raise-deprecating',\n",
       "             estimator=MultinomialNB(alpha=1.0, class_prior=None,\n",
       "                                     fit_prior=True),\n",
       "             iid='warn', n_jobs=-1,\n",
       "             param_grid={'alpha': [0, 0.0001, 0.001, 0.01, 0.1, 1]},\n",
       "             pre_dispatch='2*n_jobs', refit=True, return_train_score=True,\n",
       "             scoring='f1_weighted', verbose=True)"
      ]
     },
     "execution_count": 21,
     "metadata": {},
     "output_type": "execute_result"
    }
   ],
   "source": [
    "clf_3 = MultinomialNB()\n",
    "param = {'alpha': [0, 1e-4, 1e-3, 1e-2, 1e-1, 1]}\n",
    "grid_3 = GridSearchCV(clf_3, param, n_jobs=-1, cv=StratifiedKFold(n_splits=7, shuffle = True,\n",
    "                                                                 random_state=123),\n",
    "                      scoring='f1_weighted',\n",
    "                   return_train_score=True, verbose=True)\n",
    "grid_3.fit(X_train_selected_2, reslabels_2)"
   ]
  },
  {
   "cell_type": "code",
   "execution_count": 22,
   "metadata": {},
   "outputs": [
    {
     "name": "stdout",
     "output_type": "stream",
     "text": [
      "{'alpha': 0.01}\n",
      "Score f1, weighted:  0.8673180073032446\n"
     ]
    }
   ],
   "source": [
    "best_c = grid_3.best_params_\n",
    "best_score = grid_3.best_score_\n",
    "joblib.dump(grid_3.best_estimator_, './ofd-data/models/third_model.sav')\n",
    "print(best_c)\n",
    "print('Score f1, weighted: ',best_score)"
   ]
  },
  {
   "cell_type": "code",
   "execution_count": 23,
   "metadata": {},
   "outputs": [],
   "source": [
    "def predictions(X_train_tfidf):\n",
    "    predictionss = []\n",
    "    predicts = grid_1.best_estimator_.predict(X_train_tfidf)\n",
    "    for i, pr in enumerate(predicts):\n",
    "        if pr == 1:\n",
    "            pred = le_1.inverse_transform(grid_2.best_estimator_.predict(X_train_tfidf[i]))[0]\n",
    "            if pred == 'DEMI CLICK':\n",
    "                pred = grid_3.best_estimator_.predict(X_train_tfidf[i])\n",
    "                predictionss.append(*le_2.inverse_transform(pred))\n",
    "            else:\n",
    "                predictionss.append(pred)\n",
    "        else:\n",
    "            predictionss.append('НЕ Сигареты ROTHMANS')\n",
    "    return predictionss"
   ]
  },
  {
   "cell_type": "code",
   "execution_count": 24,
   "metadata": {},
   "outputs": [],
   "source": [
    "train_data['predict'] = predictions(X_train_tfidf)"
   ]
  },
  {
   "cell_type": "code",
   "execution_count": 25,
   "metadata": {},
   "outputs": [
    {
     "data": {
      "text/html": [
       "<div>\n",
       "<style scoped>\n",
       "    .dataframe tbody tr th:only-of-type {\n",
       "        vertical-align: middle;\n",
       "    }\n",
       "\n",
       "    .dataframe tbody tr th {\n",
       "        vertical-align: top;\n",
       "    }\n",
       "\n",
       "    .dataframe thead th {\n",
       "        text-align: right;\n",
       "    }\n",
       "</style>\n",
       "<table border=\"1\" class=\"dataframe\">\n",
       "  <thead>\n",
       "    <tr style=\"text-align: right;\">\n",
       "      <th></th>\n",
       "      <th>НЕ Сигареты ROTHMANS</th>\n",
       "      <th>Сигареты ROTHMANS (неизвестно или нет в списке)</th>\n",
       "      <th>Сигареты ROTHMANS DEMI</th>\n",
       "      <th>Сигареты ROTHMANS DEMI CLICK (кнопка / капсула / зеленый / лайм / ментол)</th>\n",
       "      <th>Сигареты ROTHMANS DEMI CLICK (кнопка / капсула) Aero Blue (фиолетовый / сиреневый / ягоды)</th>\n",
       "      <th>Сигареты ROTHMANS DEMI CLICK (кнопка / капсула) Plus Blue (amber, мандарин, оранж, апельсин)</th>\n",
       "      <th>Сигареты ROTHMANS DEMI SILVER (серый)</th>\n",
       "      <th>Сигареты ROYALS BY ROTHMANS</th>\n",
       "      <th>accuracy</th>\n",
       "      <th>macro avg</th>\n",
       "      <th>weighted avg</th>\n",
       "    </tr>\n",
       "  </thead>\n",
       "  <tbody>\n",
       "    <tr>\n",
       "      <th>f1-score</th>\n",
       "      <td>0.999946</td>\n",
       "      <td>0.615385</td>\n",
       "      <td>0.825503</td>\n",
       "      <td>0.890688</td>\n",
       "      <td>0.938053</td>\n",
       "      <td>0.955145</td>\n",
       "      <td>1.0</td>\n",
       "      <td>0.945946</td>\n",
       "      <td>0.992799</td>\n",
       "      <td>0.896333</td>\n",
       "      <td>0.992574</td>\n",
       "    </tr>\n",
       "    <tr>\n",
       "      <th>precision</th>\n",
       "      <td>1.000000</td>\n",
       "      <td>1.000000</td>\n",
       "      <td>0.976190</td>\n",
       "      <td>0.808824</td>\n",
       "      <td>0.981481</td>\n",
       "      <td>0.932990</td>\n",
       "      <td>1.0</td>\n",
       "      <td>0.958904</td>\n",
       "      <td>0.992799</td>\n",
       "      <td>0.957299</td>\n",
       "      <td>0.993688</td>\n",
       "    </tr>\n",
       "    <tr>\n",
       "      <th>recall</th>\n",
       "      <td>0.999891</td>\n",
       "      <td>0.444444</td>\n",
       "      <td>0.715116</td>\n",
       "      <td>0.990991</td>\n",
       "      <td>0.898305</td>\n",
       "      <td>0.978378</td>\n",
       "      <td>1.0</td>\n",
       "      <td>0.933333</td>\n",
       "      <td>0.992799</td>\n",
       "      <td>0.870057</td>\n",
       "      <td>0.992799</td>\n",
       "    </tr>\n",
       "    <tr>\n",
       "      <th>support</th>\n",
       "      <td>9200.000000</td>\n",
       "      <td>9.000000</td>\n",
       "      <td>172.000000</td>\n",
       "      <td>222.000000</td>\n",
       "      <td>59.000000</td>\n",
       "      <td>185.000000</td>\n",
       "      <td>76.0</td>\n",
       "      <td>75.000000</td>\n",
       "      <td>0.992799</td>\n",
       "      <td>9998.000000</td>\n",
       "      <td>9998.000000</td>\n",
       "    </tr>\n",
       "  </tbody>\n",
       "</table>\n",
       "</div>"
      ],
      "text/plain": [
       "           НЕ Сигареты ROTHMANS  \\\n",
       "f1-score               0.999946   \n",
       "precision              1.000000   \n",
       "recall                 0.999891   \n",
       "support             9200.000000   \n",
       "\n",
       "           Сигареты ROTHMANS (неизвестно или нет в списке)  \\\n",
       "f1-score                                          0.615385   \n",
       "precision                                         1.000000   \n",
       "recall                                            0.444444   \n",
       "support                                           9.000000   \n",
       "\n",
       "           Сигареты ROTHMANS DEMI  \\\n",
       "f1-score                 0.825503   \n",
       "precision                0.976190   \n",
       "recall                   0.715116   \n",
       "support                172.000000   \n",
       "\n",
       "           Сигареты ROTHMANS DEMI CLICK (кнопка / капсула / зеленый / лайм / ментол)  \\\n",
       "f1-score                                            0.890688                           \n",
       "precision                                           0.808824                           \n",
       "recall                                              0.990991                           \n",
       "support                                           222.000000                           \n",
       "\n",
       "           Сигареты ROTHMANS DEMI CLICK (кнопка / капсула) Aero Blue (фиолетовый / сиреневый / ягоды)  \\\n",
       "f1-score                                            0.938053                                            \n",
       "precision                                           0.981481                                            \n",
       "recall                                              0.898305                                            \n",
       "support                                            59.000000                                            \n",
       "\n",
       "           Сигареты ROTHMANS DEMI CLICK (кнопка / капсула) Plus Blue (amber, мандарин, оранж, апельсин)  \\\n",
       "f1-score                                            0.955145                                              \n",
       "precision                                           0.932990                                              \n",
       "recall                                              0.978378                                              \n",
       "support                                           185.000000                                              \n",
       "\n",
       "           Сигареты ROTHMANS DEMI SILVER (серый)  Сигареты ROYALS BY ROTHMANS  \\\n",
       "f1-score                                     1.0                     0.945946   \n",
       "precision                                    1.0                     0.958904   \n",
       "recall                                       1.0                     0.933333   \n",
       "support                                     76.0                    75.000000   \n",
       "\n",
       "           accuracy    macro avg  weighted avg  \n",
       "f1-score   0.992799     0.896333      0.992574  \n",
       "precision  0.992799     0.957299      0.993688  \n",
       "recall     0.992799     0.870057      0.992799  \n",
       "support    0.992799  9998.000000   9998.000000  "
      ]
     },
     "execution_count": 25,
     "metadata": {},
     "output_type": "execute_result"
    }
   ],
   "source": [
    "pd.DataFrame.from_dict(classification_report(train_data['result'], \n",
    "                                             train_data['predict'],\n",
    "                                            output_dict=True))"
   ]
  },
  {
   "cell_type": "code",
   "execution_count": 26,
   "metadata": {},
   "outputs": [
    {
     "data": {
      "text/html": [
       "<div>\n",
       "<style scoped>\n",
       "    .dataframe tbody tr th:only-of-type {\n",
       "        vertical-align: middle;\n",
       "    }\n",
       "\n",
       "    .dataframe tbody tr th {\n",
       "        vertical-align: top;\n",
       "    }\n",
       "\n",
       "    .dataframe thead th {\n",
       "        text-align: right;\n",
       "    }\n",
       "</style>\n",
       "<table border=\"1\" class=\"dataframe\">\n",
       "  <thead>\n",
       "    <tr style=\"text-align: right;\">\n",
       "      <th></th>\n",
       "      <th>name</th>\n",
       "    </tr>\n",
       "  </thead>\n",
       "  <tbody>\n",
       "    <tr>\n",
       "      <th>0</th>\n",
       "      <td>2000000964829 трихопол таб 250 мг n2</td>\n",
       "    </tr>\n",
       "    <tr>\n",
       "      <th>1</th>\n",
       "      <td>сигареты парламент карат синий //</td>\n",
       "    </tr>\n",
       "    <tr>\n",
       "      <th>2</th>\n",
       "      <td>перец горький 1 шт</td>\n",
       "    </tr>\n",
       "    <tr>\n",
       "      <th>3</th>\n",
       "      <td>сыр коса \"сочинский\" 120 гр (40)</td>\n",
       "    </tr>\n",
       "    <tr>\n",
       "      <th>4</th>\n",
       "      <td>мертенил таб 5мг №30</td>\n",
       "    </tr>\n",
       "  </tbody>\n",
       "</table>\n",
       "</div>"
      ],
      "text/plain": [
       "                                   name\n",
       "0  2000000964829 трихопол таб 250 мг n2\n",
       "1     сигареты парламент карат синий //\n",
       "2                    перец горький 1 шт\n",
       "3      сыр коса \"сочинский\" 120 гр (40)\n",
       "4                  мертенил таб 5мг №30"
      ]
     },
     "execution_count": 26,
     "metadata": {},
     "output_type": "execute_result"
    }
   ],
   "source": [
    "test_data = pd.read_csv('./ofd-data/test_dataset.txt', sep='\\t', encoding = \"cp1251\",\n",
    "                  engine='python')\n",
    "test_data.head()"
   ]
  },
  {
   "cell_type": "code",
   "execution_count": 27,
   "metadata": {},
   "outputs": [],
   "source": [
    "test_data['name_new'] = test_data['name'].apply(lambda x: x.lower())\n",
    "for special_char in special_char_list:\n",
    "    test_data['name_new'] = test_data['name_new'].apply(lambda x: x.replace(special_char, ''))\n",
    "    \n",
    "test_data['name_new'] = test_data['name_new'].apply(lambda x: ' '.join(re.findall('.....', x)))"
   ]
  },
  {
   "cell_type": "code",
   "execution_count": 28,
   "metadata": {},
   "outputs": [],
   "source": [
    "X_test_counts = count_vect.transform(test_data.name_new)\n",
    "X_test_tfidf = tfidf_transformer.transform(X_test_counts)\n",
    "\n",
    "test_data['predict'] = predictions(X_test_tfidf)\n",
    "test_data.drop('name_new', axis=1, inplace=True)"
   ]
  },
  {
   "cell_type": "code",
   "execution_count": 29,
   "metadata": {},
   "outputs": [
    {
     "data": {
      "text/html": [
       "<div>\n",
       "<style scoped>\n",
       "    .dataframe tbody tr th:only-of-type {\n",
       "        vertical-align: middle;\n",
       "    }\n",
       "\n",
       "    .dataframe tbody tr th {\n",
       "        vertical-align: top;\n",
       "    }\n",
       "\n",
       "    .dataframe thead th {\n",
       "        text-align: right;\n",
       "    }\n",
       "</style>\n",
       "<table border=\"1\" class=\"dataframe\">\n",
       "  <thead>\n",
       "    <tr style=\"text-align: right;\">\n",
       "      <th></th>\n",
       "      <th>name</th>\n",
       "      <th>predict</th>\n",
       "    </tr>\n",
       "  </thead>\n",
       "  <tbody>\n",
       "    <tr>\n",
       "      <th>30</th>\n",
       "      <td>п rothmans demi blue(п., 100,00)</td>\n",
       "      <td>Сигареты ROTHMANS DEMI</td>\n",
       "    </tr>\n",
       "    <tr>\n",
       "      <th>221</th>\n",
       "      <td>ротманс деми тонкие</td>\n",
       "      <td>Сигареты ROTHMANS DEMI</td>\n",
       "    </tr>\n",
       "    <tr>\n",
       "      <th>446</th>\n",
       "      <td>сигареты \"rothmans demi 100\"</td>\n",
       "      <td>Сигареты ROTHMANS DEMI</td>\n",
       "    </tr>\n",
       "    <tr>\n",
       "      <th>671</th>\n",
       "      <td>сиг. rothmans demi мрц100</td>\n",
       "      <td>Сигареты ROTHMANS DEMI</td>\n",
       "    </tr>\n",
       "    <tr>\n",
       "      <th>813</th>\n",
       "      <td>сигареты rothmans demi 20 шт (100)</td>\n",
       "      <td>Сигареты ROTHMANS DEMI</td>\n",
       "    </tr>\n",
       "  </tbody>\n",
       "</table>\n",
       "</div>"
      ],
      "text/plain": [
       "                                   name                 predict\n",
       "30     п rothmans demi blue(п., 100,00)  Сигареты ROTHMANS DEMI\n",
       "221                 ротманс деми тонкие  Сигареты ROTHMANS DEMI\n",
       "446        сигареты \"rothmans demi 100\"  Сигареты ROTHMANS DEMI\n",
       "671           сиг. rothmans demi мрц100  Сигареты ROTHMANS DEMI\n",
       "813  сигареты rothmans demi 20 шт (100)  Сигареты ROTHMANS DEMI"
      ]
     },
     "execution_count": 29,
     "metadata": {},
     "output_type": "execute_result"
    }
   ],
   "source": [
    "test_data[test_data['predict'] == 'Сигареты ROTHMANS DEMI'].head()"
   ]
  }
 ],
 "metadata": {
  "kernelspec": {
   "display_name": "Python 3",
   "language": "python",
   "name": "python3"
  },
  "language_info": {
   "codemirror_mode": {
    "name": "ipython",
    "version": 3
   },
   "file_extension": ".py",
   "mimetype": "text/x-python",
   "name": "python",
   "nbconvert_exporter": "python",
   "pygments_lexer": "ipython3",
   "version": "3.7.3"
  }
 },
 "nbformat": 4,
 "nbformat_minor": 2
}
