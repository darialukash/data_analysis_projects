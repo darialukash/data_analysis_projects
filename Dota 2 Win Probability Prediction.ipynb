{
 "cells": [
  {
   "cell_type": "markdown",
   "metadata": {},
   "source": [
    "# Dota 2: Win Probability Prediction\n",
    "\n",
    "Predict Dota 2 match winner by the first 5 minutes of the game.\n",
    "\n",
    "Dota 2 is a computer game in the MOBA (Multiplayer Online Battle Arena) genre. It is played by two teams, called Radiant and Dire which consist of five players each. The main goal of the game is to destroy other team's “Ancient\", located at the opposite corners of the map. Matches are generated from a queue, taking into account the level of the game all players, known as MMR (Match Making Rank).\n",
    "\n",
    "Each of the players choose one hero to play with from a pool of 112 heroes in the drafting stage of the game (sometimes called 'picks').\n",
    "\n",
    "Each hero has a set of features that define his role in the team and playstyle. Among these features there are his basic attribute (Strength, Agility or Intelligence) and unique set of 4 (or for some heroes even more) skills. These features allow each hero to fill several roles in the team, such as “damage dealer\" (hero, whose role is to attack the enemies in the fight), “healer\" (hero, who mostly heals and otherwise helps his teammates), “caster\" (hero, who mostly relies on his spells) etc. Besides attributes each hero can buy items to increase their characteristics or give additional abilities. A set of items purchased by player can significantly affect the success of his individual gameplay and the result of a match.\n",
    "\n",
    "Dota 2 Match\n",
    "\n",
    "The training set consists of matches, for which all of the ingame events (like kills, item purchase etc.) as well as match outcome are know. We are given only the first 5 minutes of each match and we need to predict the likelihood of Radiant victory.\n",
    "\n",
    "The data for this contest is based on the archive of public games by OpenDota.com (formerly YASP). (description by https://www.kaggle.com/c/dota-2-win-probability-prediction)"
   ]
  },
  {
   "cell_type": "code",
   "execution_count": 1,
   "metadata": {},
   "outputs": [],
   "source": [
    "import pandas as pd\n",
    "import numpy as np\n",
    "import matplotlib.pyplot as plt\n",
    "import seaborn as sns"
   ]
  },
  {
   "cell_type": "code",
   "execution_count": 2,
   "metadata": {},
   "outputs": [
    {
     "name": "stdout",
     "output_type": "stream",
     "text": [
      "(97230, 108)\n"
     ]
    },
    {
     "data": {
      "text/html": [
       "<div>\n",
       "<style scoped>\n",
       "    .dataframe tbody tr th:only-of-type {\n",
       "        vertical-align: middle;\n",
       "    }\n",
       "\n",
       "    .dataframe tbody tr th {\n",
       "        vertical-align: top;\n",
       "    }\n",
       "\n",
       "    .dataframe thead th {\n",
       "        text-align: right;\n",
       "    }\n",
       "</style>\n",
       "<table border=\"1\" class=\"dataframe\">\n",
       "  <thead>\n",
       "    <tr style=\"text-align: right;\">\n",
       "      <th></th>\n",
       "      <th>start_time</th>\n",
       "      <th>lobby_type</th>\n",
       "      <th>r1_hero</th>\n",
       "      <th>r1_level</th>\n",
       "      <th>r1_xp</th>\n",
       "      <th>r1_gold</th>\n",
       "      <th>r1_lh</th>\n",
       "      <th>r1_kills</th>\n",
       "      <th>r1_deaths</th>\n",
       "      <th>r1_items</th>\n",
       "      <th>...</th>\n",
       "      <th>dire_boots_count</th>\n",
       "      <th>dire_ward_observer_count</th>\n",
       "      <th>dire_ward_sentry_count</th>\n",
       "      <th>dire_first_ward_time</th>\n",
       "      <th>duration</th>\n",
       "      <th>radiant_win</th>\n",
       "      <th>tower_status_radiant</th>\n",
       "      <th>tower_status_dire</th>\n",
       "      <th>barracks_status_radiant</th>\n",
       "      <th>barracks_status_dire</th>\n",
       "    </tr>\n",
       "    <tr>\n",
       "      <th>match_id</th>\n",
       "      <th></th>\n",
       "      <th></th>\n",
       "      <th></th>\n",
       "      <th></th>\n",
       "      <th></th>\n",
       "      <th></th>\n",
       "      <th></th>\n",
       "      <th></th>\n",
       "      <th></th>\n",
       "      <th></th>\n",
       "      <th></th>\n",
       "      <th></th>\n",
       "      <th></th>\n",
       "      <th></th>\n",
       "      <th></th>\n",
       "      <th></th>\n",
       "      <th></th>\n",
       "      <th></th>\n",
       "      <th></th>\n",
       "      <th></th>\n",
       "      <th></th>\n",
       "    </tr>\n",
       "  </thead>\n",
       "  <tbody>\n",
       "    <tr>\n",
       "      <th>0</th>\n",
       "      <td>1430198770</td>\n",
       "      <td>7</td>\n",
       "      <td>11</td>\n",
       "      <td>5</td>\n",
       "      <td>2098</td>\n",
       "      <td>1489</td>\n",
       "      <td>20</td>\n",
       "      <td>0</td>\n",
       "      <td>0</td>\n",
       "      <td>7</td>\n",
       "      <td>...</td>\n",
       "      <td>4</td>\n",
       "      <td>2</td>\n",
       "      <td>2</td>\n",
       "      <td>-52.0</td>\n",
       "      <td>2874</td>\n",
       "      <td>1</td>\n",
       "      <td>1796</td>\n",
       "      <td>0</td>\n",
       "      <td>51</td>\n",
       "      <td>0</td>\n",
       "    </tr>\n",
       "    <tr>\n",
       "      <th>1</th>\n",
       "      <td>1430220345</td>\n",
       "      <td>0</td>\n",
       "      <td>42</td>\n",
       "      <td>4</td>\n",
       "      <td>1188</td>\n",
       "      <td>1033</td>\n",
       "      <td>9</td>\n",
       "      <td>0</td>\n",
       "      <td>1</td>\n",
       "      <td>12</td>\n",
       "      <td>...</td>\n",
       "      <td>4</td>\n",
       "      <td>3</td>\n",
       "      <td>1</td>\n",
       "      <td>-5.0</td>\n",
       "      <td>2463</td>\n",
       "      <td>1</td>\n",
       "      <td>1974</td>\n",
       "      <td>0</td>\n",
       "      <td>63</td>\n",
       "      <td>1</td>\n",
       "    </tr>\n",
       "    <tr>\n",
       "      <th>2</th>\n",
       "      <td>1430227081</td>\n",
       "      <td>7</td>\n",
       "      <td>33</td>\n",
       "      <td>4</td>\n",
       "      <td>1319</td>\n",
       "      <td>1270</td>\n",
       "      <td>22</td>\n",
       "      <td>0</td>\n",
       "      <td>0</td>\n",
       "      <td>12</td>\n",
       "      <td>...</td>\n",
       "      <td>4</td>\n",
       "      <td>3</td>\n",
       "      <td>1</td>\n",
       "      <td>13.0</td>\n",
       "      <td>2130</td>\n",
       "      <td>0</td>\n",
       "      <td>0</td>\n",
       "      <td>1830</td>\n",
       "      <td>0</td>\n",
       "      <td>63</td>\n",
       "    </tr>\n",
       "    <tr>\n",
       "      <th>3</th>\n",
       "      <td>1430263531</td>\n",
       "      <td>1</td>\n",
       "      <td>29</td>\n",
       "      <td>4</td>\n",
       "      <td>1779</td>\n",
       "      <td>1056</td>\n",
       "      <td>14</td>\n",
       "      <td>0</td>\n",
       "      <td>0</td>\n",
       "      <td>5</td>\n",
       "      <td>...</td>\n",
       "      <td>4</td>\n",
       "      <td>2</td>\n",
       "      <td>0</td>\n",
       "      <td>27.0</td>\n",
       "      <td>1459</td>\n",
       "      <td>0</td>\n",
       "      <td>1920</td>\n",
       "      <td>2047</td>\n",
       "      <td>50</td>\n",
       "      <td>63</td>\n",
       "    </tr>\n",
       "    <tr>\n",
       "      <th>4</th>\n",
       "      <td>1430282290</td>\n",
       "      <td>7</td>\n",
       "      <td>13</td>\n",
       "      <td>4</td>\n",
       "      <td>1431</td>\n",
       "      <td>1090</td>\n",
       "      <td>8</td>\n",
       "      <td>1</td>\n",
       "      <td>0</td>\n",
       "      <td>8</td>\n",
       "      <td>...</td>\n",
       "      <td>3</td>\n",
       "      <td>3</td>\n",
       "      <td>0</td>\n",
       "      <td>-16.0</td>\n",
       "      <td>2449</td>\n",
       "      <td>0</td>\n",
       "      <td>4</td>\n",
       "      <td>1974</td>\n",
       "      <td>3</td>\n",
       "      <td>63</td>\n",
       "    </tr>\n",
       "  </tbody>\n",
       "</table>\n",
       "<p>5 rows × 108 columns</p>\n",
       "</div>"
      ],
      "text/plain": [
       "          start_time  lobby_type  r1_hero  r1_level  r1_xp  r1_gold  r1_lh  \\\n",
       "match_id                                                                     \n",
       "0         1430198770           7       11         5   2098     1489     20   \n",
       "1         1430220345           0       42         4   1188     1033      9   \n",
       "2         1430227081           7       33         4   1319     1270     22   \n",
       "3         1430263531           1       29         4   1779     1056     14   \n",
       "4         1430282290           7       13         4   1431     1090      8   \n",
       "\n",
       "          r1_kills  r1_deaths  r1_items          ...           \\\n",
       "match_id                                         ...            \n",
       "0                0          0         7          ...            \n",
       "1                0          1        12          ...            \n",
       "2                0          0        12          ...            \n",
       "3                0          0         5          ...            \n",
       "4                1          0         8          ...            \n",
       "\n",
       "          dire_boots_count  dire_ward_observer_count  dire_ward_sentry_count  \\\n",
       "match_id                                                                       \n",
       "0                        4                         2                       2   \n",
       "1                        4                         3                       1   \n",
       "2                        4                         3                       1   \n",
       "3                        4                         2                       0   \n",
       "4                        3                         3                       0   \n",
       "\n",
       "          dire_first_ward_time  duration  radiant_win  tower_status_radiant  \\\n",
       "match_id                                                                      \n",
       "0                        -52.0      2874            1                  1796   \n",
       "1                         -5.0      2463            1                  1974   \n",
       "2                         13.0      2130            0                     0   \n",
       "3                         27.0      1459            0                  1920   \n",
       "4                        -16.0      2449            0                     4   \n",
       "\n",
       "          tower_status_dire  barracks_status_radiant  barracks_status_dire  \n",
       "match_id                                                                    \n",
       "0                         0                       51                     0  \n",
       "1                         0                       63                     1  \n",
       "2                      1830                        0                    63  \n",
       "3                      2047                       50                    63  \n",
       "4                      1974                        3                    63  \n",
       "\n",
       "[5 rows x 108 columns]"
      ]
     },
     "execution_count": 2,
     "metadata": {},
     "output_type": "execute_result"
    }
   ],
   "source": [
    "# Reading the train dataset\n",
    "\n",
    "data_train = pd.read_csv('dota-data/features.csv', index_col='match_id')\n",
    "print(data_train.shape)\n",
    "data_train.head()"
   ]
  },
  {
   "cell_type": "code",
   "execution_count": 3,
   "metadata": {},
   "outputs": [
    {
     "name": "stdout",
     "output_type": "stream",
     "text": [
      "(17177, 102)\n"
     ]
    },
    {
     "data": {
      "text/html": [
       "<div>\n",
       "<style scoped>\n",
       "    .dataframe tbody tr th:only-of-type {\n",
       "        vertical-align: middle;\n",
       "    }\n",
       "\n",
       "    .dataframe tbody tr th {\n",
       "        vertical-align: top;\n",
       "    }\n",
       "\n",
       "    .dataframe thead th {\n",
       "        text-align: right;\n",
       "    }\n",
       "</style>\n",
       "<table border=\"1\" class=\"dataframe\">\n",
       "  <thead>\n",
       "    <tr style=\"text-align: right;\">\n",
       "      <th></th>\n",
       "      <th>start_time</th>\n",
       "      <th>lobby_type</th>\n",
       "      <th>r1_hero</th>\n",
       "      <th>r1_level</th>\n",
       "      <th>r1_xp</th>\n",
       "      <th>r1_gold</th>\n",
       "      <th>r1_lh</th>\n",
       "      <th>r1_kills</th>\n",
       "      <th>r1_deaths</th>\n",
       "      <th>r1_items</th>\n",
       "      <th>...</th>\n",
       "      <th>radiant_ward_sentry_count</th>\n",
       "      <th>radiant_first_ward_time</th>\n",
       "      <th>dire_bottle_time</th>\n",
       "      <th>dire_courier_time</th>\n",
       "      <th>dire_flying_courier_time</th>\n",
       "      <th>dire_tpscroll_count</th>\n",
       "      <th>dire_boots_count</th>\n",
       "      <th>dire_ward_observer_count</th>\n",
       "      <th>dire_ward_sentry_count</th>\n",
       "      <th>dire_first_ward_time</th>\n",
       "    </tr>\n",
       "    <tr>\n",
       "      <th>match_id</th>\n",
       "      <th></th>\n",
       "      <th></th>\n",
       "      <th></th>\n",
       "      <th></th>\n",
       "      <th></th>\n",
       "      <th></th>\n",
       "      <th></th>\n",
       "      <th></th>\n",
       "      <th></th>\n",
       "      <th></th>\n",
       "      <th></th>\n",
       "      <th></th>\n",
       "      <th></th>\n",
       "      <th></th>\n",
       "      <th></th>\n",
       "      <th></th>\n",
       "      <th></th>\n",
       "      <th></th>\n",
       "      <th></th>\n",
       "      <th></th>\n",
       "      <th></th>\n",
       "    </tr>\n",
       "  </thead>\n",
       "  <tbody>\n",
       "    <tr>\n",
       "      <th>6</th>\n",
       "      <td>1430287923</td>\n",
       "      <td>0</td>\n",
       "      <td>93</td>\n",
       "      <td>4</td>\n",
       "      <td>1103</td>\n",
       "      <td>1089</td>\n",
       "      <td>8</td>\n",
       "      <td>0</td>\n",
       "      <td>1</td>\n",
       "      <td>9</td>\n",
       "      <td>...</td>\n",
       "      <td>0</td>\n",
       "      <td>12.0</td>\n",
       "      <td>247.0</td>\n",
       "      <td>-86.0</td>\n",
       "      <td>272.0</td>\n",
       "      <td>3</td>\n",
       "      <td>4</td>\n",
       "      <td>2</td>\n",
       "      <td>0</td>\n",
       "      <td>118.0</td>\n",
       "    </tr>\n",
       "    <tr>\n",
       "      <th>7</th>\n",
       "      <td>1430293357</td>\n",
       "      <td>1</td>\n",
       "      <td>20</td>\n",
       "      <td>2</td>\n",
       "      <td>556</td>\n",
       "      <td>570</td>\n",
       "      <td>1</td>\n",
       "      <td>0</td>\n",
       "      <td>0</td>\n",
       "      <td>9</td>\n",
       "      <td>...</td>\n",
       "      <td>2</td>\n",
       "      <td>-29.0</td>\n",
       "      <td>168.0</td>\n",
       "      <td>-54.0</td>\n",
       "      <td>NaN</td>\n",
       "      <td>3</td>\n",
       "      <td>2</td>\n",
       "      <td>2</td>\n",
       "      <td>1</td>\n",
       "      <td>16.0</td>\n",
       "    </tr>\n",
       "    <tr>\n",
       "      <th>10</th>\n",
       "      <td>1430301774</td>\n",
       "      <td>1</td>\n",
       "      <td>112</td>\n",
       "      <td>2</td>\n",
       "      <td>751</td>\n",
       "      <td>808</td>\n",
       "      <td>1</td>\n",
       "      <td>0</td>\n",
       "      <td>0</td>\n",
       "      <td>13</td>\n",
       "      <td>...</td>\n",
       "      <td>1</td>\n",
       "      <td>-22.0</td>\n",
       "      <td>46.0</td>\n",
       "      <td>-87.0</td>\n",
       "      <td>186.0</td>\n",
       "      <td>1</td>\n",
       "      <td>3</td>\n",
       "      <td>3</td>\n",
       "      <td>0</td>\n",
       "      <td>-34.0</td>\n",
       "    </tr>\n",
       "    <tr>\n",
       "      <th>13</th>\n",
       "      <td>1430323933</td>\n",
       "      <td>1</td>\n",
       "      <td>27</td>\n",
       "      <td>3</td>\n",
       "      <td>708</td>\n",
       "      <td>903</td>\n",
       "      <td>1</td>\n",
       "      <td>1</td>\n",
       "      <td>1</td>\n",
       "      <td>11</td>\n",
       "      <td>...</td>\n",
       "      <td>2</td>\n",
       "      <td>-49.0</td>\n",
       "      <td>30.0</td>\n",
       "      <td>-89.0</td>\n",
       "      <td>210.0</td>\n",
       "      <td>3</td>\n",
       "      <td>4</td>\n",
       "      <td>2</td>\n",
       "      <td>1</td>\n",
       "      <td>-26.0</td>\n",
       "    </tr>\n",
       "    <tr>\n",
       "      <th>16</th>\n",
       "      <td>1430331112</td>\n",
       "      <td>1</td>\n",
       "      <td>39</td>\n",
       "      <td>4</td>\n",
       "      <td>1259</td>\n",
       "      <td>661</td>\n",
       "      <td>4</td>\n",
       "      <td>0</td>\n",
       "      <td>0</td>\n",
       "      <td>9</td>\n",
       "      <td>...</td>\n",
       "      <td>0</td>\n",
       "      <td>36.0</td>\n",
       "      <td>180.0</td>\n",
       "      <td>-86.0</td>\n",
       "      <td>180.0</td>\n",
       "      <td>1</td>\n",
       "      <td>3</td>\n",
       "      <td>2</td>\n",
       "      <td>1</td>\n",
       "      <td>-33.0</td>\n",
       "    </tr>\n",
       "  </tbody>\n",
       "</table>\n",
       "<p>5 rows × 102 columns</p>\n",
       "</div>"
      ],
      "text/plain": [
       "          start_time  lobby_type  r1_hero  r1_level  r1_xp  r1_gold  r1_lh  \\\n",
       "match_id                                                                     \n",
       "6         1430287923           0       93         4   1103     1089      8   \n",
       "7         1430293357           1       20         2    556      570      1   \n",
       "10        1430301774           1      112         2    751      808      1   \n",
       "13        1430323933           1       27         3    708      903      1   \n",
       "16        1430331112           1       39         4   1259      661      4   \n",
       "\n",
       "          r1_kills  r1_deaths  r1_items          ...           \\\n",
       "match_id                                         ...            \n",
       "6                0          1         9          ...            \n",
       "7                0          0         9          ...            \n",
       "10               0          0        13          ...            \n",
       "13               1          1        11          ...            \n",
       "16               0          0         9          ...            \n",
       "\n",
       "          radiant_ward_sentry_count  radiant_first_ward_time  \\\n",
       "match_id                                                       \n",
       "6                                 0                     12.0   \n",
       "7                                 2                    -29.0   \n",
       "10                                1                    -22.0   \n",
       "13                                2                    -49.0   \n",
       "16                                0                     36.0   \n",
       "\n",
       "          dire_bottle_time  dire_courier_time  dire_flying_courier_time  \\\n",
       "match_id                                                                  \n",
       "6                    247.0              -86.0                     272.0   \n",
       "7                    168.0              -54.0                       NaN   \n",
       "10                    46.0              -87.0                     186.0   \n",
       "13                    30.0              -89.0                     210.0   \n",
       "16                   180.0              -86.0                     180.0   \n",
       "\n",
       "          dire_tpscroll_count  dire_boots_count  dire_ward_observer_count  \\\n",
       "match_id                                                                    \n",
       "6                           3                 4                         2   \n",
       "7                           3                 2                         2   \n",
       "10                          1                 3                         3   \n",
       "13                          3                 4                         2   \n",
       "16                          1                 3                         2   \n",
       "\n",
       "          dire_ward_sentry_count  dire_first_ward_time  \n",
       "match_id                                                \n",
       "6                              0                 118.0  \n",
       "7                              1                  16.0  \n",
       "10                             0                 -34.0  \n",
       "13                             1                 -26.0  \n",
       "16                             1                 -33.0  \n",
       "\n",
       "[5 rows x 102 columns]"
      ]
     },
     "execution_count": 3,
     "metadata": {},
     "output_type": "execute_result"
    }
   ],
   "source": [
    "# Reading the test dataset\n",
    "\n",
    "data_test = pd.read_csv('dota-data/features_test.csv', index_col='match_id')\n",
    "print(data_test.shape)\n",
    "data_test.head()"
   ]
  },
  {
   "cell_type": "code",
   "execution_count": 4,
   "metadata": {},
   "outputs": [],
   "source": [
    "# The test dataset has 102 features, train - 108.\n",
    "# So, let's drop features, assosiated with the outcome of the match.\n",
    "drop_list = list(set(data_train.columns) - set(data_test.columns))\n",
    "\n",
    "y_train = data_train['radiant_win']\n",
    "X_train = data_train.drop(drop_list, axis=1)"
   ]
  },
  {
   "cell_type": "code",
   "execution_count": 5,
   "metadata": {},
   "outputs": [
    {
     "data": {
      "text/plain": [
       "<matplotlib.axes._subplots.AxesSubplot at 0x7f9239ac3748>"
      ]
     },
     "execution_count": 5,
     "metadata": {},
     "output_type": "execute_result"
    },
    {
     "data": {
      "image/png": "[encoded data removed]",
      "text/plain": [
       "<Figure size 432x288 with 1 Axes>"
      ]
     },
     "metadata": {},
     "output_type": "display_data"
    }
   ],
   "source": [
    "# Classes are balansed\n",
    "\n",
    "sns.countplot(y_train)"
   ]
  },
  {
   "cell_type": "code",
   "execution_count": 6,
   "metadata": {},
   "outputs": [
    {
     "name": "stdout",
     "output_type": "stream",
     "text": [
      "<class 'pandas.core.frame.DataFrame'>\n",
      "Int64Index: 97230 entries, 0 to 114406\n",
      "Data columns (total 102 columns):\n",
      "start_time                     97230 non-null int64\n",
      "lobby_type                     97230 non-null int64\n",
      "r1_hero                        97230 non-null int64\n",
      "r1_level                       97230 non-null int64\n",
      "r1_xp                          97230 non-null int64\n",
      "r1_gold                        97230 non-null int64\n",
      "r1_lh                          97230 non-null int64\n",
      "r1_kills                       97230 non-null int64\n",
      "r1_deaths                      97230 non-null int64\n",
      "r1_items                       97230 non-null int64\n",
      "r2_hero                        97230 non-null int64\n",
      "r2_level                       97230 non-null int64\n",
      "r2_xp                          97230 non-null int64\n",
      "r2_gold                        97230 non-null int64\n",
      "r2_lh                          97230 non-null int64\n",
      "r2_kills                       97230 non-null int64\n",
      "r2_deaths                      97230 non-null int64\n",
      "r2_items                       97230 non-null int64\n",
      "r3_hero                        97230 non-null int64\n",
      "r3_level                       97230 non-null int64\n",
      "r3_xp                          97230 non-null int64\n",
      "r3_gold                        97230 non-null int64\n",
      "r3_lh                          97230 non-null int64\n",
      "r3_kills                       97230 non-null int64\n",
      "r3_deaths                      97230 non-null int64\n",
      "r3_items                       97230 non-null int64\n",
      "r4_hero                        97230 non-null int64\n",
      "r4_level                       97230 non-null int64\n",
      "r4_xp                          97230 non-null int64\n",
      "r4_gold                        97230 non-null int64\n",
      "r4_lh                          97230 non-null int64\n",
      "r4_kills                       97230 non-null int64\n",
      "r4_deaths                      97230 non-null int64\n",
      "r4_items                       97230 non-null int64\n",
      "r5_hero                        97230 non-null int64\n",
      "r5_level                       97230 non-null int64\n",
      "r5_xp                          97230 non-null int64\n",
      "r5_gold                        97230 non-null int64\n",
      "r5_lh                          97230 non-null int64\n",
      "r5_kills                       97230 non-null int64\n",
      "r5_deaths                      97230 non-null int64\n",
      "r5_items                       97230 non-null int64\n",
      "d1_hero                        97230 non-null int64\n",
      "d1_level                       97230 non-null int64\n",
      "d1_xp                          97230 non-null int64\n",
      "d1_gold                        97230 non-null int64\n",
      "d1_lh                          97230 non-null int64\n",
      "d1_kills                       97230 non-null int64\n",
      "d1_deaths                      97230 non-null int64\n",
      "d1_items                       97230 non-null int64\n",
      "d2_hero                        97230 non-null int64\n",
      "d2_level                       97230 non-null int64\n",
      "d2_xp                          97230 non-null int64\n",
      "d2_gold                        97230 non-null int64\n",
      "d2_lh                          97230 non-null int64\n",
      "d2_kills                       97230 non-null int64\n",
      "d2_deaths                      97230 non-null int64\n",
      "d2_items                       97230 non-null int64\n",
      "d3_hero                        97230 non-null int64\n",
      "d3_level                       97230 non-null int64\n",
      "d3_xp                          97230 non-null int64\n",
      "d3_gold                        97230 non-null int64\n",
      "d3_lh                          97230 non-null int64\n",
      "d3_kills                       97230 non-null int64\n",
      "d3_deaths                      97230 non-null int64\n",
      "d3_items                       97230 non-null int64\n",
      "d4_hero                        97230 non-null int64\n",
      "d4_level                       97230 non-null int64\n",
      "d4_xp                          97230 non-null int64\n",
      "d4_gold                        97230 non-null int64\n",
      "d4_lh                          97230 non-null int64\n",
      "d4_kills                       97230 non-null int64\n",
      "d4_deaths                      97230 non-null int64\n",
      "d4_items                       97230 non-null int64\n",
      "d5_hero                        97230 non-null int64\n",
      "d5_level                       97230 non-null int64\n",
      "d5_xp                          97230 non-null int64\n",
      "d5_gold                        97230 non-null int64\n",
      "d5_lh                          97230 non-null int64\n",
      "d5_kills                       97230 non-null int64\n",
      "d5_deaths                      97230 non-null int64\n",
      "d5_items                       97230 non-null int64\n",
      "first_blood_time               77677 non-null float64\n",
      "first_blood_team               77677 non-null float64\n",
      "first_blood_player1            77677 non-null float64\n",
      "first_blood_player2            53243 non-null float64\n",
      "radiant_bottle_time            81539 non-null float64\n",
      "radiant_courier_time           96538 non-null float64\n",
      "radiant_flying_courier_time    69751 non-null float64\n",
      "radiant_tpscroll_count         97230 non-null int64\n",
      "radiant_boots_count            97230 non-null int64\n",
      "radiant_ward_observer_count    97230 non-null int64\n",
      "radiant_ward_sentry_count      97230 non-null int64\n",
      "radiant_first_ward_time        95394 non-null float64\n",
      "dire_bottle_time               81087 non-null float64\n",
      "dire_courier_time              96554 non-null float64\n",
      "dire_flying_courier_time       71132 non-null float64\n",
      "dire_tpscroll_count            97230 non-null int64\n",
      "dire_boots_count               97230 non-null int64\n",
      "dire_ward_observer_count       97230 non-null int64\n",
      "dire_ward_sentry_count         97230 non-null int64\n",
      "dire_first_ward_time           95404 non-null float64\n",
      "dtypes: float64(12), int64(90)\n",
      "memory usage: 78.9 MB\n"
     ]
    }
   ],
   "source": [
    "X_train.info(verbose=True, null_counts=True)"
   ]
  },
  {
   "cell_type": "code",
   "execution_count": 7,
   "metadata": {},
   "outputs": [
    {
     "name": "stdout",
     "output_type": "stream",
     "text": [
      "<class 'pandas.core.frame.DataFrame'>\n",
      "Int64Index: 17177 entries, 6 to 114398\n",
      "Data columns (total 102 columns):\n",
      "start_time                     17177 non-null int64\n",
      "lobby_type                     17177 non-null int64\n",
      "r1_hero                        17177 non-null int64\n",
      "r1_level                       17177 non-null int64\n",
      "r1_xp                          17177 non-null int64\n",
      "r1_gold                        17177 non-null int64\n",
      "r1_lh                          17177 non-null int64\n",
      "r1_kills                       17177 non-null int64\n",
      "r1_deaths                      17177 non-null int64\n",
      "r1_items                       17177 non-null int64\n",
      "r2_hero                        17177 non-null int64\n",
      "r2_level                       17177 non-null int64\n",
      "r2_xp                          17177 non-null int64\n",
      "r2_gold                        17177 non-null int64\n",
      "r2_lh                          17177 non-null int64\n",
      "r2_kills                       17177 non-null int64\n",
      "r2_deaths                      17177 non-null int64\n",
      "r2_items                       17177 non-null int64\n",
      "r3_hero                        17177 non-null int64\n",
      "r3_level                       17177 non-null int64\n",
      "r3_xp                          17177 non-null int64\n",
      "r3_gold                        17177 non-null int64\n",
      "r3_lh                          17177 non-null int64\n",
      "r3_kills                       17177 non-null int64\n",
      "r3_deaths                      17177 non-null int64\n",
      "r3_items                       17177 non-null int64\n",
      "r4_hero                        17177 non-null int64\n",
      "r4_level                       17177 non-null int64\n",
      "r4_xp                          17177 non-null int64\n",
      "r4_gold                        17177 non-null int64\n",
      "r4_lh                          17177 non-null int64\n",
      "r4_kills                       17177 non-null int64\n",
      "r4_deaths                      17177 non-null int64\n",
      "r4_items                       17177 non-null int64\n",
      "r5_hero                        17177 non-null int64\n",
      "r5_level                       17177 non-null int64\n",
      "r5_xp                          17177 non-null int64\n",
      "r5_gold                        17177 non-null int64\n",
      "r5_lh                          17177 non-null int64\n",
      "r5_kills                       17177 non-null int64\n",
      "r5_deaths                      17177 non-null int64\n",
      "r5_items                       17177 non-null int64\n",
      "d1_hero                        17177 non-null int64\n",
      "d1_level                       17177 non-null int64\n",
      "d1_xp                          17177 non-null int64\n",
      "d1_gold                        17177 non-null int64\n",
      "d1_lh                          17177 non-null int64\n",
      "d1_kills                       17177 non-null int64\n",
      "d1_deaths                      17177 non-null int64\n",
      "d1_items                       17177 non-null int64\n",
      "d2_hero                        17177 non-null int64\n",
      "d2_level                       17177 non-null int64\n",
      "d2_xp                          17177 non-null int64\n",
      "d2_gold                        17177 non-null int64\n",
      "d2_lh                          17177 non-null int64\n",
      "d2_kills                       17177 non-null int64\n",
      "d2_deaths                      17177 non-null int64\n",
      "d2_items                       17177 non-null int64\n",
      "d3_hero                        17177 non-null int64\n",
      "d3_level                       17177 non-null int64\n",
      "d3_xp                          17177 non-null int64\n",
      "d3_gold                        17177 non-null int64\n",
      "d3_lh                          17177 non-null int64\n",
      "d3_kills                       17177 non-null int64\n",
      "d3_deaths                      17177 non-null int64\n",
      "d3_items                       17177 non-null int64\n",
      "d4_hero                        17177 non-null int64\n",
      "d4_level                       17177 non-null int64\n",
      "d4_xp                          17177 non-null int64\n",
      "d4_gold                        17177 non-null int64\n",
      "d4_lh                          17177 non-null int64\n",
      "d4_kills                       17177 non-null int64\n",
      "d4_deaths                      17177 non-null int64\n",
      "d4_items                       17177 non-null int64\n",
      "d5_hero                        17177 non-null int64\n",
      "d5_level                       17177 non-null int64\n",
      "d5_xp                          17177 non-null int64\n",
      "d5_gold                        17177 non-null int64\n",
      "d5_lh                          17177 non-null int64\n",
      "d5_kills                       17177 non-null int64\n",
      "d5_deaths                      17177 non-null int64\n",
      "d5_items                       17177 non-null int64\n",
      "first_blood_time               13625 non-null float64\n",
      "first_blood_team               13625 non-null float64\n",
      "first_blood_player1            13625 non-null float64\n",
      "first_blood_player2            9411 non-null float64\n",
      "radiant_bottle_time            14282 non-null float64\n",
      "radiant_courier_time           17050 non-null float64\n",
      "radiant_flying_courier_time    12292 non-null float64\n",
      "radiant_tpscroll_count         17177 non-null int64\n",
      "radiant_boots_count            17177 non-null int64\n",
      "radiant_ward_observer_count    17177 non-null int64\n",
      "radiant_ward_sentry_count      17177 non-null int64\n",
      "radiant_first_ward_time        16847 non-null float64\n",
      "dire_bottle_time               14335 non-null float64\n",
      "dire_courier_time              17047 non-null float64\n",
      "dire_flying_courier_time       12653 non-null float64\n",
      "dire_tpscroll_count            17177 non-null int64\n",
      "dire_boots_count               17177 non-null int64\n",
      "dire_ward_observer_count       17177 non-null int64\n",
      "dire_ward_sentry_count         17177 non-null int64\n",
      "dire_first_ward_time           16914 non-null float64\n",
      "dtypes: float64(12), int64(90)\n",
      "memory usage: 13.5 MB\n"
     ]
    }
   ],
   "source": [
    "data_test.info(verbose=True, null_counts=True)"
   ]
  },
  {
   "cell_type": "code",
   "execution_count": 9,
   "metadata": {},
   "outputs": [
    {
     "data": {
      "text/html": [
       "<div>\n",
       "<style scoped>\n",
       "    .dataframe tbody tr th:only-of-type {\n",
       "        vertical-align: middle;\n",
       "    }\n",
       "\n",
       "    .dataframe tbody tr th {\n",
       "        vertical-align: top;\n",
       "    }\n",
       "\n",
       "    .dataframe thead th {\n",
       "        text-align: right;\n",
       "    }\n",
       "</style>\n",
       "<table border=\"1\" class=\"dataframe\">\n",
       "  <thead>\n",
       "    <tr style=\"text-align: right;\">\n",
       "      <th></th>\n",
       "      <th>start_time</th>\n",
       "      <th>lobby_type</th>\n",
       "      <th>r1_hero</th>\n",
       "      <th>r1_level</th>\n",
       "      <th>r1_xp</th>\n",
       "      <th>r1_gold</th>\n",
       "      <th>r1_lh</th>\n",
       "      <th>r1_kills</th>\n",
       "      <th>r1_deaths</th>\n",
       "      <th>r1_items</th>\n",
       "      <th>...</th>\n",
       "      <th>radiant_ward_sentry_count</th>\n",
       "      <th>radiant_first_ward_time</th>\n",
       "      <th>dire_bottle_time</th>\n",
       "      <th>dire_courier_time</th>\n",
       "      <th>dire_flying_courier_time</th>\n",
       "      <th>dire_tpscroll_count</th>\n",
       "      <th>dire_boots_count</th>\n",
       "      <th>dire_ward_observer_count</th>\n",
       "      <th>dire_ward_sentry_count</th>\n",
       "      <th>dire_first_ward_time</th>\n",
       "    </tr>\n",
       "  </thead>\n",
       "  <tbody>\n",
       "    <tr>\n",
       "      <th>count</th>\n",
       "      <td>9.723000e+04</td>\n",
       "      <td>97230.000000</td>\n",
       "      <td>97230.000000</td>\n",
       "      <td>97230.000000</td>\n",
       "      <td>97230.000000</td>\n",
       "      <td>97230.000000</td>\n",
       "      <td>97230.000000</td>\n",
       "      <td>97230.000000</td>\n",
       "      <td>97230.000000</td>\n",
       "      <td>97230.000000</td>\n",
       "      <td>...</td>\n",
       "      <td>97230.000000</td>\n",
       "      <td>95394.000000</td>\n",
       "      <td>81087.000000</td>\n",
       "      <td>96554.000000</td>\n",
       "      <td>71132.000000</td>\n",
       "      <td>97230.000000</td>\n",
       "      <td>97230.000000</td>\n",
       "      <td>97230.000000</td>\n",
       "      <td>97230.000000</td>\n",
       "      <td>95404.000000</td>\n",
       "    </tr>\n",
       "    <tr>\n",
       "      <th>mean</th>\n",
       "      <td>1.444232e+09</td>\n",
       "      <td>2.630999</td>\n",
       "      <td>51.517104</td>\n",
       "      <td>3.442672</td>\n",
       "      <td>1233.405801</td>\n",
       "      <td>1147.899702</td>\n",
       "      <td>11.231996</td>\n",
       "      <td>0.357009</td>\n",
       "      <td>0.362285</td>\n",
       "      <td>8.271315</td>\n",
       "      <td>...</td>\n",
       "      <td>0.716250</td>\n",
       "      <td>-6.875747</td>\n",
       "      <td>127.215028</td>\n",
       "      <td>-80.191893</td>\n",
       "      <td>214.870536</td>\n",
       "      <td>2.965566</td>\n",
       "      <td>3.349553</td>\n",
       "      <td>2.448339</td>\n",
       "      <td>0.689119</td>\n",
       "      <td>-6.901922</td>\n",
       "    </tr>\n",
       "    <tr>\n",
       "      <th>std</th>\n",
       "      <td>5.515393e+06</td>\n",
       "      <td>2.835761</td>\n",
       "      <td>32.564211</td>\n",
       "      <td>1.111741</td>\n",
       "      <td>566.588895</td>\n",
       "      <td>464.111662</td>\n",
       "      <td>9.041620</td>\n",
       "      <td>0.663889</td>\n",
       "      <td>0.626704</td>\n",
       "      <td>2.497575</td>\n",
       "      <td>...</td>\n",
       "      <td>0.725331</td>\n",
       "      <td>39.508650</td>\n",
       "      <td>62.442018</td>\n",
       "      <td>15.261950</td>\n",
       "      <td>34.137158</td>\n",
       "      <td>1.907288</td>\n",
       "      <td>1.155609</td>\n",
       "      <td>0.813459</td>\n",
       "      <td>0.710122</td>\n",
       "      <td>40.701397</td>\n",
       "    </tr>\n",
       "    <tr>\n",
       "      <th>min</th>\n",
       "      <td>1.430199e+09</td>\n",
       "      <td>0.000000</td>\n",
       "      <td>1.000000</td>\n",
       "      <td>0.000000</td>\n",
       "      <td>0.000000</td>\n",
       "      <td>0.000000</td>\n",
       "      <td>0.000000</td>\n",
       "      <td>0.000000</td>\n",
       "      <td>0.000000</td>\n",
       "      <td>0.000000</td>\n",
       "      <td>...</td>\n",
       "      <td>0.000000</td>\n",
       "      <td>-236.000000</td>\n",
       "      <td>-45.000000</td>\n",
       "      <td>-90.000000</td>\n",
       "      <td>180.000000</td>\n",
       "      <td>0.000000</td>\n",
       "      <td>0.000000</td>\n",
       "      <td>0.000000</td>\n",
       "      <td>0.000000</td>\n",
       "      <td>-84.000000</td>\n",
       "    </tr>\n",
       "    <tr>\n",
       "      <th>25%</th>\n",
       "      <td>1.440815e+09</td>\n",
       "      <td>1.000000</td>\n",
       "      <td>22.000000</td>\n",
       "      <td>3.000000</td>\n",
       "      <td>767.000000</td>\n",
       "      <td>746.000000</td>\n",
       "      <td>2.000000</td>\n",
       "      <td>0.000000</td>\n",
       "      <td>0.000000</td>\n",
       "      <td>7.000000</td>\n",
       "      <td>...</td>\n",
       "      <td>0.000000</td>\n",
       "      <td>-31.000000</td>\n",
       "      <td>83.000000</td>\n",
       "      <td>-86.000000</td>\n",
       "      <td>185.000000</td>\n",
       "      <td>2.000000</td>\n",
       "      <td>3.000000</td>\n",
       "      <td>2.000000</td>\n",
       "      <td>0.000000</td>\n",
       "      <td>-31.000000</td>\n",
       "    </tr>\n",
       "    <tr>\n",
       "      <th>50%</th>\n",
       "      <td>1.446338e+09</td>\n",
       "      <td>1.000000</td>\n",
       "      <td>50.000000</td>\n",
       "      <td>3.000000</td>\n",
       "      <td>1175.000000</td>\n",
       "      <td>1113.000000</td>\n",
       "      <td>11.000000</td>\n",
       "      <td>0.000000</td>\n",
       "      <td>0.000000</td>\n",
       "      <td>8.000000</td>\n",
       "      <td>...</td>\n",
       "      <td>1.000000</td>\n",
       "      <td>-15.000000</td>\n",
       "      <td>131.000000</td>\n",
       "      <td>-84.000000</td>\n",
       "      <td>203.000000</td>\n",
       "      <td>3.000000</td>\n",
       "      <td>3.000000</td>\n",
       "      <td>2.000000</td>\n",
       "      <td>1.000000</td>\n",
       "      <td>-16.000000</td>\n",
       "    </tr>\n",
       "    <tr>\n",
       "      <th>75%</th>\n",
       "      <td>1.448829e+09</td>\n",
       "      <td>7.000000</td>\n",
       "      <td>75.000000</td>\n",
       "      <td>4.000000</td>\n",
       "      <td>1704.000000</td>\n",
       "      <td>1479.000000</td>\n",
       "      <td>19.000000</td>\n",
       "      <td>1.000000</td>\n",
       "      <td>1.000000</td>\n",
       "      <td>10.000000</td>\n",
       "      <td>...</td>\n",
       "      <td>1.000000</td>\n",
       "      <td>9.000000</td>\n",
       "      <td>165.000000</td>\n",
       "      <td>-79.000000</td>\n",
       "      <td>238.000000</td>\n",
       "      <td>4.000000</td>\n",
       "      <td>4.000000</td>\n",
       "      <td>3.000000</td>\n",
       "      <td>1.000000</td>\n",
       "      <td>8.000000</td>\n",
       "    </tr>\n",
       "    <tr>\n",
       "      <th>max</th>\n",
       "      <td>1.450313e+09</td>\n",
       "      <td>7.000000</td>\n",
       "      <td>112.000000</td>\n",
       "      <td>6.000000</td>\n",
       "      <td>3319.000000</td>\n",
       "      <td>4332.000000</td>\n",
       "      <td>47.000000</td>\n",
       "      <td>8.000000</td>\n",
       "      <td>5.000000</td>\n",
       "      <td>34.000000</td>\n",
       "      <td>...</td>\n",
       "      <td>25.000000</td>\n",
       "      <td>300.000000</td>\n",
       "      <td>300.000000</td>\n",
       "      <td>296.000000</td>\n",
       "      <td>300.000000</td>\n",
       "      <td>21.000000</td>\n",
       "      <td>9.000000</td>\n",
       "      <td>9.000000</td>\n",
       "      <td>13.000000</td>\n",
       "      <td>300.000000</td>\n",
       "    </tr>\n",
       "  </tbody>\n",
       "</table>\n",
       "<p>8 rows × 102 columns</p>\n",
       "</div>"
      ],
      "text/plain": [
       "         start_time    lobby_type       r1_hero      r1_level         r1_xp  \\\n",
       "count  9.723000e+04  97230.000000  97230.000000  97230.000000  97230.000000   \n",
       "mean   1.444232e+09      2.630999     51.517104      3.442672   1233.405801   \n",
       "std    5.515393e+06      2.835761     32.564211      1.111741    566.588895   \n",
       "min    1.430199e+09      0.000000      1.000000      0.000000      0.000000   \n",
       "25%    1.440815e+09      1.000000     22.000000      3.000000    767.000000   \n",
       "50%    1.446338e+09      1.000000     50.000000      3.000000   1175.000000   \n",
       "75%    1.448829e+09      7.000000     75.000000      4.000000   1704.000000   \n",
       "max    1.450313e+09      7.000000    112.000000      6.000000   3319.000000   \n",
       "\n",
       "            r1_gold         r1_lh      r1_kills     r1_deaths      r1_items  \\\n",
       "count  97230.000000  97230.000000  97230.000000  97230.000000  97230.000000   \n",
       "mean    1147.899702     11.231996      0.357009      0.362285      8.271315   \n",
       "std      464.111662      9.041620      0.663889      0.626704      2.497575   \n",
       "min        0.000000      0.000000      0.000000      0.000000      0.000000   \n",
       "25%      746.000000      2.000000      0.000000      0.000000      7.000000   \n",
       "50%     1113.000000     11.000000      0.000000      0.000000      8.000000   \n",
       "75%     1479.000000     19.000000      1.000000      1.000000     10.000000   \n",
       "max     4332.000000     47.000000      8.000000      5.000000     34.000000   \n",
       "\n",
       "               ...           radiant_ward_sentry_count  \\\n",
       "count          ...                        97230.000000   \n",
       "mean           ...                            0.716250   \n",
       "std            ...                            0.725331   \n",
       "min            ...                            0.000000   \n",
       "25%            ...                            0.000000   \n",
       "50%            ...                            1.000000   \n",
       "75%            ...                            1.000000   \n",
       "max            ...                           25.000000   \n",
       "\n",
       "       radiant_first_ward_time  dire_bottle_time  dire_courier_time  \\\n",
       "count             95394.000000      81087.000000       96554.000000   \n",
       "mean                 -6.875747        127.215028         -80.191893   \n",
       "std                  39.508650         62.442018          15.261950   \n",
       "min                -236.000000        -45.000000         -90.000000   \n",
       "25%                 -31.000000         83.000000         -86.000000   \n",
       "50%                 -15.000000        131.000000         -84.000000   \n",
       "75%                   9.000000        165.000000         -79.000000   \n",
       "max                 300.000000        300.000000         296.000000   \n",
       "\n",
       "       dire_flying_courier_time  dire_tpscroll_count  dire_boots_count  \\\n",
       "count              71132.000000         97230.000000      97230.000000   \n",
       "mean                 214.870536             2.965566          3.349553   \n",
       "std                   34.137158             1.907288          1.155609   \n",
       "min                  180.000000             0.000000          0.000000   \n",
       "25%                  185.000000             2.000000          3.000000   \n",
       "50%                  203.000000             3.000000          3.000000   \n",
       "75%                  238.000000             4.000000          4.000000   \n",
       "max                  300.000000            21.000000          9.000000   \n",
       "\n",
       "       dire_ward_observer_count  dire_ward_sentry_count  dire_first_ward_time  \n",
       "count              97230.000000            97230.000000          95404.000000  \n",
       "mean                   2.448339                0.689119             -6.901922  \n",
       "std                    0.813459                0.710122             40.701397  \n",
       "min                    0.000000                0.000000            -84.000000  \n",
       "25%                    2.000000                0.000000            -31.000000  \n",
       "50%                    2.000000                1.000000            -16.000000  \n",
       "75%                    3.000000                1.000000              8.000000  \n",
       "max                    9.000000               13.000000            300.000000  \n",
       "\n",
       "[8 rows x 102 columns]"
      ]
     },
     "execution_count": 9,
     "metadata": {},
     "output_type": "execute_result"
    }
   ],
   "source": [
    "X_train.describe()"
   ]
  },
  {
   "cell_type": "code",
   "execution_count": 10,
   "metadata": {},
   "outputs": [
    {
     "data": {
      "text/plain": [
       "first_blood_time               77677.0\n",
       "first_blood_team               77677.0\n",
       "first_blood_player1            77677.0\n",
       "first_blood_player2            53243.0\n",
       "radiant_bottle_time            81539.0\n",
       "radiant_courier_time           96538.0\n",
       "radiant_flying_courier_time    69751.0\n",
       "radiant_first_ward_time        95394.0\n",
       "dire_bottle_time               81087.0\n",
       "dire_courier_time              96554.0\n",
       "dire_flying_courier_time       71132.0\n",
       "dire_first_ward_time           95404.0\n",
       "dtype: float64"
      ]
     },
     "execution_count": 10,
     "metadata": {},
     "output_type": "execute_result"
    }
   ],
   "source": [
    "# Take a look at gaps:\n",
    "\n",
    "X_train.count(axis=0).where(X_train.count(axis=0) != X_train.shape[0]).dropna(axis=0, how='all', inplace=False)"
   ]
  },
  {
   "cell_type": "code",
   "execution_count": 11,
   "metadata": {},
   "outputs": [
    {
     "data": {
      "text/plain": [
       "first_blood_time               13625.0\n",
       "first_blood_team               13625.0\n",
       "first_blood_player1            13625.0\n",
       "first_blood_player2             9411.0\n",
       "radiant_bottle_time            14282.0\n",
       "radiant_courier_time           17050.0\n",
       "radiant_flying_courier_time    12292.0\n",
       "radiant_first_ward_time        16847.0\n",
       "dire_bottle_time               14335.0\n",
       "dire_courier_time              17047.0\n",
       "dire_flying_courier_time       12653.0\n",
       "dire_first_ward_time           16914.0\n",
       "dtype: float64"
      ]
     },
     "execution_count": 11,
     "metadata": {},
     "output_type": "execute_result"
    }
   ],
   "source": [
    "data_test.count(axis=0).where(data_test.count(axis=0) != data_test.shape[0]).dropna(axis=0, how='all', inplace=False)"
   ]
  },
  {
   "cell_type": "code",
   "execution_count": 12,
   "metadata": {},
   "outputs": [
    {
     "data": {
      "text/plain": [
       "<matplotlib.axes._subplots.AxesSubplot at 0x7f92379885f8>"
      ]
     },
     "execution_count": 12,
     "metadata": {},
     "output_type": "execute_result"
    },
    {
     "data": {
      "image/png": "[encoded data removed]",
      "text/plain": [
       "<Figure size 504x504 with 2 Axes>"
      ]
     },
     "metadata": {},
     "output_type": "display_data"
    }
   ],
   "source": [
    "# The columns with gaps in train dataset are the same as in test dataset.\n",
    "# Also columns with gaps are time and first_blood action.\n",
    "# Let's take a look at dependance between first_blood action and radiant win.\n",
    "\n",
    "f, (ax1, ax2) = plt.subplots(2, 1, figsize=(7, 7), sharex=True)\n",
    "\n",
    "\n",
    "sns.countplot(x=X_train['first_blood_player1'], hue=y_train, palette='rocket', ax=ax1)\n",
    "sns.countplot(x=X_train['first_blood_player2'], hue=y_train, palette='rocket', ax=ax2)"
   ]
  },
  {
   "cell_type": "code",
   "execution_count": 13,
   "metadata": {},
   "outputs": [
    {
     "data": {
      "text/plain": [
       "<matplotlib.axes._subplots.AxesSubplot at 0x7f923785d748>"
      ]
     },
     "execution_count": 13,
     "metadata": {},
     "output_type": "execute_result"
    },
    {
     "data": {
      "image/png": "[encoded data removed]",
      "text/plain": [
       "<Figure size 288x576 with 2 Axes>"
      ]
     },
     "metadata": {},
     "output_type": "display_data"
    }
   ],
   "source": [
    "# Let's take a look at dependance between missing values in columns 'first_blood_player1(2)' and radiant win.\n",
    "# Look's like there is not. So, let's fill gaps with zeros, for start.\n",
    "\n",
    "f, (ax1, ax2) = plt.subplots(2, 1, figsize=(4, 8), sharex=True)\n",
    "\n",
    "fbpl1 = X_train['first_blood_player1'].fillna('NAN')\n",
    "fbpl2 = X_train['first_blood_player2'].fillna('NAN')\n",
    "sns.countplot(x=fbpl1[fbpl1=='NAN'], hue=y_train, palette='rocket', ax=ax1)\n",
    "sns.countplot(x=fbpl2[fbpl2=='NAN'], hue=y_train, palette='rocket', ax=ax2)"
   ]
  },
  {
   "cell_type": "code",
   "execution_count": 14,
   "metadata": {},
   "outputs": [],
   "source": [
    "X_train_zeros = X_train.fillna(0, axis = 0)\n",
    "X_test_zeros = data_test.fillna(0, axis = 0)"
   ]
  },
  {
   "cell_type": "markdown",
   "metadata": {},
   "source": [
    "## Method 1. Gradient boosting"
   ]
  },
  {
   "cell_type": "code",
   "execution_count": 15,
   "metadata": {},
   "outputs": [
    {
     "name": "stderr",
     "output_type": "stream",
     "text": [
      "/home/daria/playground/env/lib/python3.6/site-packages/sklearn/ensemble/weight_boosting.py:29: DeprecationWarning: numpy.core.umath_tests is an internal NumPy module and should not be imported. It will be removed in a future NumPy release.\n",
      "  from numpy.core.umath_tests import inner1d\n"
     ]
    }
   ],
   "source": [
    "from sklearn.model_selection import KFold, GridSearchCV, cross_val_score\n",
    "from sklearn.ensemble import GradientBoostingClassifier\n",
    "from sklearn.metrics import roc_auc_score\n",
    "import time\n",
    "import datetime"
   ]
  },
  {
   "cell_type": "code",
   "execution_count": 16,
   "metadata": {},
   "outputs": [],
   "source": [
    "params = {'n_estimators': np.arange(10, 110, 10),\n",
    "         'max_depth': [1, 2, 3]}"
   ]
  },
  {
   "cell_type": "code",
   "execution_count": 17,
   "metadata": {},
   "outputs": [],
   "source": [
    "clf = GradientBoostingClassifier(random_state = 42)\n",
    "grid = GridSearchCV(clf, params, scoring='roc_auc', n_jobs=-1, cv=KFold(n_splits=3, shuffle = True),\n",
    "                   return_train_score=True, verbose=True)"
   ]
  },
  {
   "cell_type": "code",
   "execution_count": 18,
   "metadata": {},
   "outputs": [
    {
     "name": "stdout",
     "output_type": "stream",
     "text": [
      "Fitting 3 folds for each of 30 candidates, totalling 90 fits\n"
     ]
    },
    {
     "name": "stderr",
     "output_type": "stream",
     "text": [
      "[Parallel(n_jobs=-1)]: Done  42 tasks      | elapsed: 12.4min\n",
      "[Parallel(n_jobs=-1)]: Done  90 out of  90 | elapsed: 53.5min finished\n"
     ]
    },
    {
     "data": {
      "text/plain": [
       "GridSearchCV(cv=KFold(n_splits=3, random_state=None, shuffle=True),\n",
       "       error_score='raise',\n",
       "       estimator=GradientBoostingClassifier(criterion='friedman_mse', init=None,\n",
       "              learning_rate=0.1, loss='deviance', max_depth=3,\n",
       "              max_features=None, max_leaf_nodes=None,\n",
       "              min_impurity_decrease=0.0, min_impurity_split=None,\n",
       "              min_samples_leaf=1, min_samples_split=2,\n",
       "              min_weight_fraction_leaf=0.0, n_estimators=100,\n",
       "              presort='auto', random_state=42, subsample=1.0, verbose=0,\n",
       "              warm_start=False),\n",
       "       fit_params=None, iid=True, n_jobs=-1,\n",
       "       param_grid={'n_estimators': array([ 10,  20,  30,  40,  50,  60,  70,  80,  90, 100]), 'max_depth': [1, 2, 3]},\n",
       "       pre_dispatch='2*n_jobs', refit=True, return_train_score=True,\n",
       "       scoring='roc_auc', verbose=True)"
      ]
     },
     "execution_count": 18,
     "metadata": {},
     "output_type": "execute_result"
    }
   ],
   "source": [
    "grid.fit(X_train_zeros, y_train)"
   ]
  },
  {
   "cell_type": "code",
   "execution_count": 19,
   "metadata": {},
   "outputs": [],
   "source": [
    "md_1 = pd.DataFrame(grid.cv_results_)[pd.DataFrame(grid.cv_results_)['param_max_depth']==1]\\\n",
    "[['param_n_estimators', 'mean_fit_time', 'mean_test_score']]\n",
    "md_2 = pd.DataFrame(grid.cv_results_)[pd.DataFrame(grid.cv_results_)['param_max_depth']==2]\\\n",
    "[['param_n_estimators', 'mean_fit_time', 'mean_test_score']]\n",
    "md_3 = pd.DataFrame(grid.cv_results_)[pd.DataFrame(grid.cv_results_)['param_max_depth']==3]\\\n",
    "[['param_n_estimators', 'mean_fit_time', 'mean_test_score']]"
   ]
  },
  {
   "cell_type": "code",
   "execution_count": 21,
   "metadata": {},
   "outputs": [
    {
     "data": {
      "image/png": "[encoded data removed]",
      "text/plain": [
       "<Figure size 432x288 with 1 Axes>"
      ]
     },
     "metadata": {},
     "output_type": "display_data"
    },
    {
     "data": {
      "image/png": "[encoded data removed]",
      "text/plain": [
       "<Figure size 432x288 with 1 Axes>"
      ]
     },
     "metadata": {},
     "output_type": "display_data"
    },
    {
     "data": {
      "image/png": "[encoded data removed]",
      "text/plain": [
       "<Figure size 432x288 with 1 Axes>"
      ]
     },
     "metadata": {},
     "output_type": "display_data"
    }
   ],
   "source": [
    "plt.plot(md_1['mean_fit_time'], md_1['param_n_estimators'], label='max depth: 1')\n",
    "plt.plot(md_2['mean_fit_time'], md_2['param_n_estimators'], label='max depth: 2')\n",
    "plt.plot(md_3['mean_fit_time'], md_3['param_n_estimators'], label='max depth: 3')\n",
    "plt.xlabel('mean fit time, c')\n",
    "plt.ylabel('n estimators')\n",
    "plt.legend()\n",
    "plt.show()\n",
    "\n",
    "\n",
    "plt.plot(md_1['mean_test_score'], md_1['mean_fit_time'], label='max depth: 1')\n",
    "plt.plot(md_2['mean_test_score'], md_2['mean_fit_time'], label='max depth: 2')\n",
    "plt.plot(md_3['mean_test_score'], md_3['mean_fit_time'], label='max depth: 3')\n",
    "plt.xlabel('ROC AUC score')\n",
    "plt.ylabel('mean fit time, c')\n",
    "plt.legend()\n",
    "plt.show()\n",
    "\n",
    "\n",
    "plt.plot(md_1['mean_test_score'], md_1['param_n_estimators'], label='max depth: 1')\n",
    "plt.plot(md_2['mean_test_score'], md_2['param_n_estimators'], label='max depth: 2')\n",
    "plt.plot(md_3['mean_test_score'], md_3['param_n_estimators'], label='max depth: 3')\n",
    "plt.xlabel('ROC AUC score')\n",
    "plt.ylabel('n estimators')\n",
    "plt.legend()\n",
    "plt.show()"
   ]
  },
  {
   "cell_type": "code",
   "execution_count": 22,
   "metadata": {},
   "outputs": [
    {
     "name": "stdout",
     "output_type": "stream",
     "text": [
      "{'max_depth': 3, 'n_estimators': 100}\n",
      "0.7062347752047818\n"
     ]
    }
   ],
   "source": [
    "print(grid.best_params_)\n",
    "print(grid.best_score_)"
   ]
  },
  {
   "cell_type": "markdown",
   "metadata": {},
   "source": [
    "## Method 2. Logistic Regression"
   ]
  },
  {
   "cell_type": "code",
   "execution_count": 23,
   "metadata": {},
   "outputs": [],
   "source": [
    "from sklearn.linear_model import LogisticRegression\n",
    "from sklearn.preprocessing import StandardScaler\n",
    "from sklearn.pipeline import Pipeline"
   ]
  },
  {
   "cell_type": "code",
   "execution_count": 26,
   "metadata": {},
   "outputs": [
    {
     "name": "stdout",
     "output_type": "stream",
     "text": [
      "ROC AUC score:  0.513450583952915\n"
     ]
    },
    {
     "name": "stderr",
     "output_type": "stream",
     "text": [
      "[Parallel(n_jobs=-1)]: Done   3 out of   3 | elapsed:    1.8s finished\n"
     ]
    }
   ],
   "source": [
    "# Logistic Regression without tunning:\n",
    "\n",
    "clf_log = LogisticRegression(random_state = 42)\n",
    "print('ROC AUC score: ', np.mean(cross_val_score(clf_log, X_train_zeros,\n",
    "                                                 y_train, scoring='roc_auc',\n",
    "                                                 cv=KFold(n_splits=3, shuffle = True),\n",
    "                                                 n_jobs=-1, verbose=True)))"
   ]
  },
  {
   "cell_type": "markdown",
   "metadata": {},
   "source": [
    "### Parameter tunning"
   ]
  },
  {
   "cell_type": "code",
   "execution_count": 27,
   "metadata": {},
   "outputs": [],
   "source": [
    "scaler = StandardScaler()\n",
    "\n",
    "kf = KFold(n_splits=3, shuffle = True, random_state = 42)\n",
    "\n",
    "param = {'C': np.power(10.0, np.arange(-6, 6))}\n",
    "\n",
    "gs = GridSearchCV(clf_log, param, scoring = 'roc_auc', cv = kf, return_train_score=True,\n",
    "                 verbose=True, n_jobs=-1)\n",
    "\n",
    "pipeline = Pipeline([('scaler', scaler), ('clf', gs)])"
   ]
  },
  {
   "cell_type": "code",
   "execution_count": 28,
   "metadata": {},
   "outputs": [
    {
     "name": "stdout",
     "output_type": "stream",
     "text": [
      "Fitting 3 folds for each of 12 candidates, totalling 36 fits\n"
     ]
    },
    {
     "name": "stderr",
     "output_type": "stream",
     "text": [
      "[Parallel(n_jobs=-1)]: Done  36 out of  36 | elapsed:  1.5min finished\n"
     ]
    },
    {
     "data": {
      "text/plain": [
       "Pipeline(memory=None,\n",
       "     steps=[('scaler', StandardScaler(copy=True, with_mean=True, with_std=True)), ('clf', GridSearchCV(cv=KFold(n_splits=3, random_state=42, shuffle=True),\n",
       "       error_score='raise',\n",
       "       estimator=LogisticRegression(C=1.0, class_weight=None, dual=False, fit_intercept=True,\n",
       "          intercept_scaling..._dispatch='2*n_jobs', refit=True, return_train_score=True,\n",
       "       scoring='roc_auc', verbose=True))])"
      ]
     },
     "execution_count": 28,
     "metadata": {},
     "output_type": "execute_result"
    }
   ],
   "source": [
    "pipeline.fit(X_train_zeros, y_train)"
   ]
  },
  {
   "cell_type": "code",
   "execution_count": 29,
   "metadata": {},
   "outputs": [
    {
     "data": {
      "image/png": "[encoded data removed]",
      "text/plain": [
       "<Figure size 432x288 with 1 Axes>"
      ]
     },
     "metadata": {},
     "output_type": "display_data"
    },
    {
     "data": {
      "image/png": "[encoded data removed]",
      "text/plain": [
       "<Figure size 432x288 with 1 Axes>"
      ]
     },
     "metadata": {},
     "output_type": "display_data"
    }
   ],
   "source": [
    "log = pd.DataFrame(pipeline.named_steps['clf'].cv_results_)[['param_C',\n",
    "                                                             'mean_fit_time',\n",
    "                                                             'mean_test_score',\n",
    "                                                            'mean_train_score']]\n",
    "\n",
    "plt.semilogx(log['param_C'], log['mean_fit_time'], label='Mean fit time')\n",
    "plt.ylabel('mean fit time, c')\n",
    "plt.xlabel('C')\n",
    "plt.legend()\n",
    "plt.show()\n",
    "\n",
    "plt.semilogx(log['param_C'], log['mean_test_score'], label='Mean test score')\n",
    "plt.semilogx(log['param_C'], log['mean_train_score'], label='Mean train score')\n",
    "plt.ylabel('ROC AUC score')\n",
    "plt.xlabel('C')\n",
    "plt.legend()\n",
    "plt.show()"
   ]
  },
  {
   "cell_type": "code",
   "execution_count": 30,
   "metadata": {},
   "outputs": [
    {
     "name": "stdout",
     "output_type": "stream",
     "text": [
      "{'C': 0.01}\n",
      "ROC AUC score:  0.7162931013949404\n"
     ]
    }
   ],
   "source": [
    "best_c = pipeline.named_steps['clf'].best_params_\n",
    "best_score = pipeline.named_steps['clf'].best_score_\n",
    "print(best_c)\n",
    "print('ROC AUC score: ',best_score)"
   ]
  },
  {
   "cell_type": "markdown",
   "metadata": {},
   "source": [
    "Logistic Regression algorithm seems to be much faster and has a better score.\n",
    "\n",
    "Let's try to improve it with feature engineering:\n",
    "\n",
    "First of all, try to drop all categorical features, like:\n",
    "\n",
    "* lobby_type\n",
    "* r1..r5_hero\n",
    "* d1..d5_hero"
   ]
  },
  {
   "cell_type": "code",
   "execution_count": 92,
   "metadata": {},
   "outputs": [],
   "source": [
    "X_train_zeros_no_cat = X_train_zeros.drop(['lobby_type',\n",
    "                                           'r1_hero',\n",
    "                                           'r2_hero',\n",
    "                                           'r3_hero',\n",
    "                                           'r4_hero',\n",
    "                                           'r5_hero',\n",
    "                                           'd1_hero',\n",
    "                                           'd2_hero',\n",
    "                                           'd3_hero',\n",
    "                                           'd4_hero',\n",
    "                                           'd5_hero'], axis = 1)\n",
    "\n",
    "X_test_zeros_no_cat = X_test_zeros.drop(['lobby_type',\n",
    "                                           'r1_hero',\n",
    "                                           'r2_hero',\n",
    "                                           'r3_hero',\n",
    "                                           'r4_hero',\n",
    "                                           'r5_hero',\n",
    "                                           'd1_hero',\n",
    "                                           'd2_hero',\n",
    "                                           'd3_hero',\n",
    "                                           'd4_hero',\n",
    "                                           'd5_hero'], axis = 1)"
   ]
  },
  {
   "cell_type": "code",
   "execution_count": 36,
   "metadata": {},
   "outputs": [],
   "source": [
    "grid_2 = GridSearchCV(clf_log, param, scoring = 'roc_auc', cv = kf, return_train_score=True,\n",
    "                 verbose=True, n_jobs=-1)\n",
    "\n",
    "pipeline_2 = Pipeline([('scaler', scaler), ('clf', grid_2)])"
   ]
  },
  {
   "cell_type": "code",
   "execution_count": 43,
   "metadata": {},
   "outputs": [
    {
     "name": "stdout",
     "output_type": "stream",
     "text": [
      "Fitting 3 folds for each of 12 candidates, totalling 36 fits\n"
     ]
    },
    {
     "name": "stderr",
     "output_type": "stream",
     "text": [
      "[Parallel(n_jobs=-1)]: Done  36 out of  36 | elapsed:  1.3min finished\n"
     ]
    },
    {
     "data": {
      "text/plain": [
       "Pipeline(memory=None,\n",
       "     steps=[('scaler', StandardScaler(copy=True, with_mean=True, with_std=True)), ('clf', GridSearchCV(cv=KFold(n_splits=3, random_state=42, shuffle=True),\n",
       "       error_score='raise',\n",
       "       estimator=LogisticRegression(C=1.0, class_weight=None, dual=False, fit_intercept=True,\n",
       "          intercept_scaling..._dispatch='2*n_jobs', refit=True, return_train_score=True,\n",
       "       scoring='roc_auc', verbose=True))])"
      ]
     },
     "execution_count": 43,
     "metadata": {},
     "output_type": "execute_result"
    }
   ],
   "source": [
    "pipeline_2.fit(X_train_zeros_no_cat, y_train)"
   ]
  },
  {
   "cell_type": "code",
   "execution_count": 44,
   "metadata": {},
   "outputs": [
    {
     "data": {
      "image/png": "[encoded data removed]",
      "text/plain": [
       "<Figure size 432x288 with 1 Axes>"
      ]
     },
     "metadata": {},
     "output_type": "display_data"
    },
    {
     "data": {
      "image/png": "[encoded data removed]",
      "text/plain": [
       "<Figure size 432x288 with 1 Axes>"
      ]
     },
     "metadata": {},
     "output_type": "display_data"
    }
   ],
   "source": [
    "log_2 = pd.DataFrame(pipeline_2.named_steps['clf'].cv_results_)[['param_C',\n",
    "                                                             'mean_fit_time',\n",
    "                                                             'mean_test_score',\n",
    "                                                            'mean_train_score']]\n",
    "\n",
    "plt.semilogx(log_2['param_C'], log_2['mean_fit_time'], label='Mean fit time')\n",
    "plt.ylabel('mean fit time, c')\n",
    "plt.xlabel('C')\n",
    "plt.legend()\n",
    "plt.show()\n",
    "\n",
    "plt.semilogx(log_2['param_C'], log_2['mean_test_score'], label='Mean test score')\n",
    "plt.semilogx(log_2['param_C'], log_2['mean_train_score'], label='Mean train score')\n",
    "plt.ylabel('ROC AUC score')\n",
    "plt.xlabel('C')\n",
    "plt.legend()\n",
    "plt.show()"
   ]
  },
  {
   "cell_type": "code",
   "execution_count": 46,
   "metadata": {},
   "outputs": [
    {
     "name": "stdout",
     "output_type": "stream",
     "text": [
      "{'C': 0.01}\n",
      "ROC AUC score_2:  0.7162734794342115\n",
      "ROC AUC score:  0.7162931013949404\n"
     ]
    }
   ],
   "source": [
    "best_c_2 = pipeline_2.named_steps['clf'].best_params_\n",
    "best_score_2 = pipeline_2.named_steps['clf'].best_score_\n",
    "print(best_c_2)\n",
    "print('ROC AUC score_2: ',best_score_2)\n",
    "print('ROC AUC score: ',best_score)"
   ]
  },
  {
   "cell_type": "markdown",
   "metadata": {},
   "source": [
    "Second score has bin down. Probably, it's because we deleted important features about herous.\n",
    "Let's try decoding the features with \"bag of words\".\n",
    "\n",
    "From describtion, we're knew that there is 112 unique herous:"
   ]
  },
  {
   "cell_type": "code",
   "execution_count": 52,
   "metadata": {},
   "outputs": [
    {
     "data": {
      "text/html": [
       "<div>\n",
       "<style scoped>\n",
       "    .dataframe tbody tr th:only-of-type {\n",
       "        vertical-align: middle;\n",
       "    }\n",
       "\n",
       "    .dataframe tbody tr th {\n",
       "        vertical-align: top;\n",
       "    }\n",
       "\n",
       "    .dataframe thead th {\n",
       "        text-align: right;\n",
       "    }\n",
       "</style>\n",
       "<table border=\"1\" class=\"dataframe\">\n",
       "  <thead>\n",
       "    <tr style=\"text-align: right;\">\n",
       "      <th></th>\n",
       "      <th>r1_hero</th>\n",
       "      <th>r2_hero</th>\n",
       "      <th>r3_hero</th>\n",
       "      <th>r4_hero</th>\n",
       "      <th>r5_hero</th>\n",
       "      <th>d1_hero</th>\n",
       "      <th>d2_hero</th>\n",
       "      <th>d3_hero</th>\n",
       "      <th>d4_hero</th>\n",
       "      <th>d5_hero</th>\n",
       "    </tr>\n",
       "  </thead>\n",
       "  <tbody>\n",
       "    <tr>\n",
       "      <th>count</th>\n",
       "      <td>97230.000000</td>\n",
       "      <td>97230.000000</td>\n",
       "      <td>97230.000000</td>\n",
       "      <td>97230.000000</td>\n",
       "      <td>97230.000000</td>\n",
       "      <td>97230.000000</td>\n",
       "      <td>97230.000000</td>\n",
       "      <td>97230.000000</td>\n",
       "      <td>97230.000000</td>\n",
       "      <td>97230.000000</td>\n",
       "    </tr>\n",
       "    <tr>\n",
       "      <th>mean</th>\n",
       "      <td>51.517104</td>\n",
       "      <td>52.183452</td>\n",
       "      <td>52.710491</td>\n",
       "      <td>52.648092</td>\n",
       "      <td>52.625630</td>\n",
       "      <td>51.990106</td>\n",
       "      <td>52.708547</td>\n",
       "      <td>52.755137</td>\n",
       "      <td>52.922421</td>\n",
       "      <td>53.059694</td>\n",
       "    </tr>\n",
       "    <tr>\n",
       "      <th>std</th>\n",
       "      <td>32.564211</td>\n",
       "      <td>32.674077</td>\n",
       "      <td>32.560923</td>\n",
       "      <td>32.670519</td>\n",
       "      <td>32.608231</td>\n",
       "      <td>32.442153</td>\n",
       "      <td>32.500960</td>\n",
       "      <td>32.421325</td>\n",
       "      <td>32.460902</td>\n",
       "      <td>32.535112</td>\n",
       "    </tr>\n",
       "    <tr>\n",
       "      <th>min</th>\n",
       "      <td>1.000000</td>\n",
       "      <td>1.000000</td>\n",
       "      <td>1.000000</td>\n",
       "      <td>1.000000</td>\n",
       "      <td>1.000000</td>\n",
       "      <td>1.000000</td>\n",
       "      <td>1.000000</td>\n",
       "      <td>1.000000</td>\n",
       "      <td>1.000000</td>\n",
       "      <td>1.000000</td>\n",
       "    </tr>\n",
       "    <tr>\n",
       "      <th>25%</th>\n",
       "      <td>22.000000</td>\n",
       "      <td>25.000000</td>\n",
       "      <td>25.000000</td>\n",
       "      <td>25.000000</td>\n",
       "      <td>25.000000</td>\n",
       "      <td>23.000000</td>\n",
       "      <td>25.000000</td>\n",
       "      <td>25.000000</td>\n",
       "      <td>25.000000</td>\n",
       "      <td>25.000000</td>\n",
       "    </tr>\n",
       "    <tr>\n",
       "      <th>50%</th>\n",
       "      <td>50.000000</td>\n",
       "      <td>50.000000</td>\n",
       "      <td>51.000000</td>\n",
       "      <td>51.000000</td>\n",
       "      <td>51.000000</td>\n",
       "      <td>50.000000</td>\n",
       "      <td>51.000000</td>\n",
       "      <td>51.000000</td>\n",
       "      <td>51.000000</td>\n",
       "      <td>51.000000</td>\n",
       "    </tr>\n",
       "    <tr>\n",
       "      <th>75%</th>\n",
       "      <td>75.000000</td>\n",
       "      <td>75.000000</td>\n",
       "      <td>76.000000</td>\n",
       "      <td>78.000000</td>\n",
       "      <td>76.000000</td>\n",
       "      <td>75.000000</td>\n",
       "      <td>76.000000</td>\n",
       "      <td>75.000000</td>\n",
       "      <td>76.000000</td>\n",
       "      <td>78.000000</td>\n",
       "    </tr>\n",
       "    <tr>\n",
       "      <th>max</th>\n",
       "      <td>112.000000</td>\n",
       "      <td>112.000000</td>\n",
       "      <td>112.000000</td>\n",
       "      <td>112.000000</td>\n",
       "      <td>112.000000</td>\n",
       "      <td>112.000000</td>\n",
       "      <td>112.000000</td>\n",
       "      <td>112.000000</td>\n",
       "      <td>112.000000</td>\n",
       "      <td>112.000000</td>\n",
       "    </tr>\n",
       "  </tbody>\n",
       "</table>\n",
       "</div>"
      ],
      "text/plain": [
       "            r1_hero       r2_hero       r3_hero       r4_hero       r5_hero  \\\n",
       "count  97230.000000  97230.000000  97230.000000  97230.000000  97230.000000   \n",
       "mean      51.517104     52.183452     52.710491     52.648092     52.625630   \n",
       "std       32.564211     32.674077     32.560923     32.670519     32.608231   \n",
       "min        1.000000      1.000000      1.000000      1.000000      1.000000   \n",
       "25%       22.000000     25.000000     25.000000     25.000000     25.000000   \n",
       "50%       50.000000     50.000000     51.000000     51.000000     51.000000   \n",
       "75%       75.000000     75.000000     76.000000     78.000000     76.000000   \n",
       "max      112.000000    112.000000    112.000000    112.000000    112.000000   \n",
       "\n",
       "            d1_hero       d2_hero       d3_hero       d4_hero       d5_hero  \n",
       "count  97230.000000  97230.000000  97230.000000  97230.000000  97230.000000  \n",
       "mean      51.990106     52.708547     52.755137     52.922421     53.059694  \n",
       "std       32.442153     32.500960     32.421325     32.460902     32.535112  \n",
       "min        1.000000      1.000000      1.000000      1.000000      1.000000  \n",
       "25%       23.000000     25.000000     25.000000     25.000000     25.000000  \n",
       "50%       50.000000     51.000000     51.000000     51.000000     51.000000  \n",
       "75%       75.000000     76.000000     75.000000     76.000000     78.000000  \n",
       "max      112.000000    112.000000    112.000000    112.000000    112.000000  "
      ]
     },
     "execution_count": 52,
     "metadata": {},
     "output_type": "execute_result"
    }
   ],
   "source": [
    "hero_cols = [col for col in X_train_zeros.columns if col.endswith('hero')]\n",
    "\n",
    "X_train_zeros[hero_cols].describe()"
   ]
  },
  {
   "cell_type": "code",
   "execution_count": 56,
   "metadata": {},
   "outputs": [
    {
     "data": {
      "text/plain": [
       "112"
      ]
     },
     "execution_count": 56,
     "metadata": {},
     "output_type": "execute_result"
    }
   ],
   "source": [
    "X_train_zeros['r1_hero'].max()"
   ]
  },
  {
   "cell_type": "markdown",
   "metadata": {
    "collapsed": true
   },
   "source": [
    "#### *Bag of words*\n",
    "\n",
    "There are N (unique) heros in the game. So, let it be N features:\n",
    "* i-th feature is equal to $0$, if hero didn't play in the match\n",
    "* i-th feature is equal to $1$, if hero participated in the math and played for the Radiant team\n",
    "* i-th feature is equal to $-1$, if hero participated in the math and played for the Dire team"
   ]
  },
  {
   "cell_type": "code",
   "execution_count": 70,
   "metadata": {},
   "outputs": [],
   "source": [
    "# N - count unique heros\n",
    "N = 112\n",
    "X_pick = np.zeros((X_train_zeros.shape[0], N))\n",
    "\n",
    "for i, match_id in enumerate(X_train_zeros.index):\n",
    "    for p in range(1,6):\n",
    "        X_pick[i, X_train_zeros.loc[match_id, 'r%d_hero' % p]-1] = 1\n",
    "        X_pick[i, X_train_zeros.loc[match_id, 'd%d_hero' % p]-1] = -1"
   ]
  },
  {
   "cell_type": "code",
   "execution_count": 80,
   "metadata": {},
   "outputs": [],
   "source": [
    "cat_features = pd.DataFrame.from_dict({match_id : X_pick[i] \n",
    "                        for i, match_id in enumerate(X_train_zeros.index)},\n",
    "                       orient='index')"
   ]
  },
  {
   "cell_type": "code",
   "execution_count": 83,
   "metadata": {},
   "outputs": [
    {
     "data": {
      "text/plain": [
       "(97230, 203)"
      ]
     },
     "execution_count": 83,
     "metadata": {},
     "output_type": "execute_result"
    }
   ],
   "source": [
    "X_train_zeros_encoded = pd.concat([X_train_zeros_no_cat, cat_features], axis=1, sort=False)\n",
    "X_train_zeros_encoded.shape"
   ]
  },
  {
   "cell_type": "code",
   "execution_count": 85,
   "metadata": {},
   "outputs": [],
   "source": [
    "grid_3 = GridSearchCV(clf_log, param, scoring = 'roc_auc', cv = kf, return_train_score=True,\n",
    "                 verbose=True, n_jobs=-1)\n",
    "\n",
    "pipeline_3 = Pipeline([('scaler', scaler), ('clf', grid_3)])"
   ]
  },
  {
   "cell_type": "code",
   "execution_count": 86,
   "metadata": {},
   "outputs": [
    {
     "name": "stdout",
     "output_type": "stream",
     "text": [
      "Fitting 3 folds for each of 12 candidates, totalling 36 fits\n"
     ]
    },
    {
     "name": "stderr",
     "output_type": "stream",
     "text": [
      "[Parallel(n_jobs=-1)]: Done  36 out of  36 | elapsed:  2.6min finished\n"
     ]
    },
    {
     "data": {
      "text/plain": [
       "Pipeline(memory=None,\n",
       "     steps=[('scaler', StandardScaler(copy=True, with_mean=True, with_std=True)), ('clf', GridSearchCV(cv=KFold(n_splits=3, random_state=42, shuffle=True),\n",
       "       error_score='raise',\n",
       "       estimator=LogisticRegression(C=1.0, class_weight=None, dual=False, fit_intercept=True,\n",
       "          intercept_scaling..._dispatch='2*n_jobs', refit=True, return_train_score=True,\n",
       "       scoring='roc_auc', verbose=True))])"
      ]
     },
     "execution_count": 86,
     "metadata": {},
     "output_type": "execute_result"
    }
   ],
   "source": [
    "pipeline_3.fit(X_train_zeros_encoded, y_train)"
   ]
  },
  {
   "cell_type": "code",
   "execution_count": 87,
   "metadata": {},
   "outputs": [
    {
     "data": {
      "image/png": "[encoded data removed]",
      "text/plain": [
       "<Figure size 432x288 with 1 Axes>"
      ]
     },
     "metadata": {},
     "output_type": "display_data"
    },
    {
     "data": {
      "image/png": "[encoded data removed]",
      "text/plain": [
       "<Figure size 432x288 with 1 Axes>"
      ]
     },
     "metadata": {},
     "output_type": "display_data"
    }
   ],
   "source": [
    "log_3 = pd.DataFrame(pipeline_3.named_steps['clf'].cv_results_)[['param_C',\n",
    "                                                             'mean_fit_time',\n",
    "                                                             'mean_test_score',\n",
    "                                                            'mean_train_score']]\n",
    "\n",
    "plt.semilogx(log_3['param_C'], log_3['mean_fit_time'], label='Mean fit time')\n",
    "plt.ylabel('mean fit time, c')\n",
    "plt.xlabel('C')\n",
    "plt.legend()\n",
    "plt.show()\n",
    "\n",
    "plt.semilogx(log_3['param_C'], log_3['mean_test_score'], label='Mean test score')\n",
    "plt.semilogx(log_3['param_C'], log_3['mean_train_score'], label='Mean train score')\n",
    "plt.ylabel('ROC AUC score')\n",
    "plt.xlabel('C')\n",
    "plt.legend()\n",
    "plt.show()"
   ]
  },
  {
   "cell_type": "code",
   "execution_count": 91,
   "metadata": {},
   "outputs": [
    {
     "name": "stdout",
     "output_type": "stream",
     "text": [
      "ROC AUC score_3:  0.7515972929637329\n",
      "ROC AUC score_2:  0.7162734794342115\n",
      "ROC AUC score:  0.7162931013949404\n"
     ]
    }
   ],
   "source": [
    "best_c_3 = pipeline_3.named_steps['clf'].best_params_\n",
    "best_score_3 = pipeline_3.named_steps['clf'].best_score_\n",
    "print('ROC AUC score_3: ', best_score_3)\n",
    "print('ROC AUC score_2: ',best_score_2)\n",
    "print('ROC AUC score: ',best_score)"
   ]
  },
  {
   "cell_type": "markdown",
   "metadata": {},
   "source": [
    "Here we see, that \"hero\"-features encoding rised ROC AUC score.\n",
    "\n",
    "Let's encode features in test dataset and make predictions for matches:"
   ]
  },
  {
   "cell_type": "code",
   "execution_count": 94,
   "metadata": {},
   "outputs": [],
   "source": [
    "X_pick_test = np.zeros((X_test_zeros.shape[0], N))\n",
    "\n",
    "for i, match_id in enumerate(X_test_zeros.index):\n",
    "    for p in range(1,6):\n",
    "        X_pick_test[i, X_test_zeros.loc[match_id, 'r%d_hero' % p]-1] = 1\n",
    "        X_pick_test[i, X_test_zeros.loc[match_id, 'd%d_hero' % p]-1] = -1\n",
    "        \n",
    "cat_features_test = pd.DataFrame.from_dict({match_id : X_pick_test[i] \n",
    "                        for i, match_id in enumerate(X_test_zeros.index)},\n",
    "                       orient='index')\n",
    "\n",
    "X_test_zeros_encoded = pd.concat([X_test_zeros_no_cat, cat_features_test], axis=1, sort=False)"
   ]
  },
  {
   "cell_type": "code",
   "execution_count": 95,
   "metadata": {},
   "outputs": [],
   "source": [
    "y_proba_test = pipeline_3.predict_proba(X_test_zeros_encoded)[:, 1]"
   ]
  },
  {
   "cell_type": "code",
   "execution_count": 97,
   "metadata": {},
   "outputs": [
    {
     "name": "stdout",
     "output_type": "stream",
     "text": [
      "0.008490951947241126\n",
      "0.9962776240356744\n"
     ]
    }
   ],
   "source": [
    "print(min(y_proba_test))\n",
    "print(max(y_proba_test))"
   ]
  }
 ],
 "metadata": {
  "kernelspec": {
   "display_name": "Python 3",
   "language": "python",
   "name": "python3"
  },
  "language_info": {
   "codemirror_mode": {
    "name": "ipython",
    "version": 3
   },
   "file_extension": ".py",
   "mimetype": "text/x-python",
   "name": "python",
   "nbconvert_exporter": "python",
   "pygments_lexer": "ipython3",
   "version": "3.7.1"
  }
 },
 "nbformat": 4,
 "nbformat_minor": 2
}
